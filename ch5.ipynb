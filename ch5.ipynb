{
 "cells": [
  {
   "cell_type": "code",
   "execution_count": 99,
   "id": "b43bda2e-84a5-4116-bafa-01618dd140b1",
   "metadata": {},
   "outputs": [],
   "source": [
    "import pandas as pd\n",
    "import numpy as np\n",
    "import matplotlib.pyplot as plt\n",
    "from sklearn.linear_model import LogisticRegression as LR\n",
    "from sklearn.tree import DecisionTreeClassifier as DTC\n",
    "from sklearn.cluster import KMeans\n",
    "from sklearn.manifold import TSNE\n",
    "from tutorial.chapter5.demo.code.apriori import *\n",
    "from statsmodels.graphics.tsaplots import plot_acf\n",
    "from statsmodels.tsa.stattools import adfuller as ADF\n",
    "from statsmodels.stats.diagnostic import acorr_ljungbox\n",
    "from statsmodels.tsa.arima.model import ARIMA"
   ]
  },
  {
   "cell_type": "code",
   "execution_count": 59,
   "id": "1df3b000-4b8c-4c76-81ac-5ba9692822fe",
   "metadata": {},
   "outputs": [],
   "source": [
    "plt.rcParams['figure.figsize']=(20,10)\n",
    "plt.rcParams['font.family']=['Heiti TC']\n",
    "plt.rcParams['axes.unicode_minus'] = False"
   ]
  },
  {
   "cell_type": "code",
   "execution_count": 3,
   "id": "b87135d0-fefd-4c00-aa81-27461f9bce7b",
   "metadata": {},
   "outputs": [],
   "source": [
    "fn='tutorial/chapter5/demo/data/bankloan.xls'\n",
    "data=pd.read_excel(fn)"
   ]
  },
  {
   "cell_type": "code",
   "execution_count": 4,
   "id": "edda24a7-6cee-43d2-8dfd-f97f3b4eba03",
   "metadata": {},
   "outputs": [
    {
     "data": {
      "text/html": [
       "<div>\n",
       "<style scoped>\n",
       "    .dataframe tbody tr th:only-of-type {\n",
       "        vertical-align: middle;\n",
       "    }\n",
       "\n",
       "    .dataframe tbody tr th {\n",
       "        vertical-align: top;\n",
       "    }\n",
       "\n",
       "    .dataframe thead th {\n",
       "        text-align: right;\n",
       "    }\n",
       "</style>\n",
       "<table border=\"1\" class=\"dataframe\">\n",
       "  <thead>\n",
       "    <tr style=\"text-align: right;\">\n",
       "      <th></th>\n",
       "      <th>年龄</th>\n",
       "      <th>教育</th>\n",
       "      <th>工龄</th>\n",
       "      <th>地址</th>\n",
       "      <th>收入</th>\n",
       "      <th>负债率</th>\n",
       "      <th>信用卡负债</th>\n",
       "      <th>其他负债</th>\n",
       "      <th>违约</th>\n",
       "    </tr>\n",
       "  </thead>\n",
       "  <tbody>\n",
       "    <tr>\n",
       "      <th>0</th>\n",
       "      <td>41</td>\n",
       "      <td>3</td>\n",
       "      <td>17</td>\n",
       "      <td>12</td>\n",
       "      <td>176</td>\n",
       "      <td>9.3</td>\n",
       "      <td>11.359392</td>\n",
       "      <td>5.008608</td>\n",
       "      <td>1</td>\n",
       "    </tr>\n",
       "    <tr>\n",
       "      <th>1</th>\n",
       "      <td>27</td>\n",
       "      <td>1</td>\n",
       "      <td>10</td>\n",
       "      <td>6</td>\n",
       "      <td>31</td>\n",
       "      <td>17.3</td>\n",
       "      <td>1.362202</td>\n",
       "      <td>4.000798</td>\n",
       "      <td>0</td>\n",
       "    </tr>\n",
       "    <tr>\n",
       "      <th>2</th>\n",
       "      <td>40</td>\n",
       "      <td>1</td>\n",
       "      <td>15</td>\n",
       "      <td>14</td>\n",
       "      <td>55</td>\n",
       "      <td>5.5</td>\n",
       "      <td>0.856075</td>\n",
       "      <td>2.168925</td>\n",
       "      <td>0</td>\n",
       "    </tr>\n",
       "    <tr>\n",
       "      <th>3</th>\n",
       "      <td>41</td>\n",
       "      <td>1</td>\n",
       "      <td>15</td>\n",
       "      <td>14</td>\n",
       "      <td>120</td>\n",
       "      <td>2.9</td>\n",
       "      <td>2.658720</td>\n",
       "      <td>0.821280</td>\n",
       "      <td>0</td>\n",
       "    </tr>\n",
       "    <tr>\n",
       "      <th>4</th>\n",
       "      <td>24</td>\n",
       "      <td>2</td>\n",
       "      <td>2</td>\n",
       "      <td>0</td>\n",
       "      <td>28</td>\n",
       "      <td>17.3</td>\n",
       "      <td>1.787436</td>\n",
       "      <td>3.056564</td>\n",
       "      <td>1</td>\n",
       "    </tr>\n",
       "  </tbody>\n",
       "</table>\n",
       "</div>"
      ],
      "text/plain": [
       "   年龄  教育  工龄  地址   收入   负债率      信用卡负债      其他负债  违约\n",
       "0  41   3  17  12  176   9.3  11.359392  5.008608   1\n",
       "1  27   1  10   6   31  17.3   1.362202  4.000798   0\n",
       "2  40   1  15  14   55   5.5   0.856075  2.168925   0\n",
       "3  41   1  15  14  120   2.9   2.658720  0.821280   0\n",
       "4  24   2   2   0   28  17.3   1.787436  3.056564   1"
      ]
     },
     "execution_count": 4,
     "metadata": {},
     "output_type": "execute_result"
    }
   ],
   "source": [
    "data.head()"
   ]
  },
  {
   "cell_type": "code",
   "execution_count": 5,
   "id": "7627fa9e-ec90-4ea0-9318-2cb23ed94c7c",
   "metadata": {},
   "outputs": [],
   "source": [
    "x=data.iloc[:,:8].values\n",
    "y=data.iloc[:,8].values"
   ]
  },
  {
   "cell_type": "code",
   "execution_count": 6,
   "id": "a01b5c63-a9c6-46bc-8048-e4ac09b6bd78",
   "metadata": {},
   "outputs": [
    {
     "data": {
      "text/plain": [
       "LogisticRegression(max_iter=200)"
      ]
     },
     "execution_count": 6,
     "metadata": {},
     "output_type": "execute_result"
    }
   ],
   "source": [
    "lr=LR(max_iter=200)\n",
    "lr.fit(x,y)"
   ]
  },
  {
   "cell_type": "code",
   "execution_count": 7,
   "id": "506d50d4-a78c-4613-b4e2-584867513324",
   "metadata": {},
   "outputs": [
    {
     "name": "stdout",
     "output_type": "stream",
     "text": [
      "accuracy: 0.8085714285714286\n"
     ]
    }
   ],
   "source": [
    "print('accuracy: %s' %(lr.score(x,y)))"
   ]
  },
  {
   "cell_type": "code",
   "execution_count": 8,
   "id": "caac32f8-ed30-43de-bf2a-99fbce5cc158",
   "metadata": {},
   "outputs": [],
   "source": [
    "fn='tutorial/chapter5/demo/data/sales_data.xls'\n",
    "data = pd.read_excel(fn,index_col='序号')"
   ]
  },
  {
   "cell_type": "code",
   "execution_count": 9,
   "id": "e8d898c3-5414-4fb5-b059-0803a0cbd548",
   "metadata": {},
   "outputs": [
    {
     "data": {
      "text/html": [
       "<div>\n",
       "<style scoped>\n",
       "    .dataframe tbody tr th:only-of-type {\n",
       "        vertical-align: middle;\n",
       "    }\n",
       "\n",
       "    .dataframe tbody tr th {\n",
       "        vertical-align: top;\n",
       "    }\n",
       "\n",
       "    .dataframe thead th {\n",
       "        text-align: right;\n",
       "    }\n",
       "</style>\n",
       "<table border=\"1\" class=\"dataframe\">\n",
       "  <thead>\n",
       "    <tr style=\"text-align: right;\">\n",
       "      <th></th>\n",
       "      <th>天气</th>\n",
       "      <th>是否周末</th>\n",
       "      <th>是否有促销</th>\n",
       "      <th>销量</th>\n",
       "    </tr>\n",
       "    <tr>\n",
       "      <th>序号</th>\n",
       "      <th></th>\n",
       "      <th></th>\n",
       "      <th></th>\n",
       "      <th></th>\n",
       "    </tr>\n",
       "  </thead>\n",
       "  <tbody>\n",
       "    <tr>\n",
       "      <th>1</th>\n",
       "      <td>坏</td>\n",
       "      <td>是</td>\n",
       "      <td>是</td>\n",
       "      <td>高</td>\n",
       "    </tr>\n",
       "    <tr>\n",
       "      <th>2</th>\n",
       "      <td>坏</td>\n",
       "      <td>是</td>\n",
       "      <td>是</td>\n",
       "      <td>高</td>\n",
       "    </tr>\n",
       "    <tr>\n",
       "      <th>3</th>\n",
       "      <td>坏</td>\n",
       "      <td>是</td>\n",
       "      <td>是</td>\n",
       "      <td>高</td>\n",
       "    </tr>\n",
       "    <tr>\n",
       "      <th>4</th>\n",
       "      <td>坏</td>\n",
       "      <td>否</td>\n",
       "      <td>是</td>\n",
       "      <td>高</td>\n",
       "    </tr>\n",
       "    <tr>\n",
       "      <th>5</th>\n",
       "      <td>坏</td>\n",
       "      <td>是</td>\n",
       "      <td>是</td>\n",
       "      <td>高</td>\n",
       "    </tr>\n",
       "  </tbody>\n",
       "</table>\n",
       "</div>"
      ],
      "text/plain": [
       "   天气 是否周末 是否有促销 销量\n",
       "序号                 \n",
       "1   坏    是     是  高\n",
       "2   坏    是     是  高\n",
       "3   坏    是     是  高\n",
       "4   坏    否     是  高\n",
       "5   坏    是     是  高"
      ]
     },
     "execution_count": 9,
     "metadata": {},
     "output_type": "execute_result"
    }
   ],
   "source": [
    "data.head()"
   ]
  },
  {
   "cell_type": "code",
   "execution_count": 10,
   "id": "d9cc6c4f-f907-4ac9-92cf-9e540c71cf44",
   "metadata": {},
   "outputs": [],
   "source": [
    "data[data=='好']=1\n",
    "data[data=='是']=1\n",
    "data[data=='高']=1\n",
    "data[data!=1]=-1"
   ]
  },
  {
   "cell_type": "code",
   "execution_count": 11,
   "id": "3fbe58e1-58cd-4eb5-ad9a-0be7848b7e8f",
   "metadata": {},
   "outputs": [
    {
     "data": {
      "text/html": [
       "<div>\n",
       "<style scoped>\n",
       "    .dataframe tbody tr th:only-of-type {\n",
       "        vertical-align: middle;\n",
       "    }\n",
       "\n",
       "    .dataframe tbody tr th {\n",
       "        vertical-align: top;\n",
       "    }\n",
       "\n",
       "    .dataframe thead th {\n",
       "        text-align: right;\n",
       "    }\n",
       "</style>\n",
       "<table border=\"1\" class=\"dataframe\">\n",
       "  <thead>\n",
       "    <tr style=\"text-align: right;\">\n",
       "      <th></th>\n",
       "      <th>天气</th>\n",
       "      <th>是否周末</th>\n",
       "      <th>是否有促销</th>\n",
       "      <th>销量</th>\n",
       "    </tr>\n",
       "    <tr>\n",
       "      <th>序号</th>\n",
       "      <th></th>\n",
       "      <th></th>\n",
       "      <th></th>\n",
       "      <th></th>\n",
       "    </tr>\n",
       "  </thead>\n",
       "  <tbody>\n",
       "    <tr>\n",
       "      <th>1</th>\n",
       "      <td>-1</td>\n",
       "      <td>1</td>\n",
       "      <td>1</td>\n",
       "      <td>1</td>\n",
       "    </tr>\n",
       "    <tr>\n",
       "      <th>2</th>\n",
       "      <td>-1</td>\n",
       "      <td>1</td>\n",
       "      <td>1</td>\n",
       "      <td>1</td>\n",
       "    </tr>\n",
       "    <tr>\n",
       "      <th>3</th>\n",
       "      <td>-1</td>\n",
       "      <td>1</td>\n",
       "      <td>1</td>\n",
       "      <td>1</td>\n",
       "    </tr>\n",
       "    <tr>\n",
       "      <th>4</th>\n",
       "      <td>-1</td>\n",
       "      <td>-1</td>\n",
       "      <td>1</td>\n",
       "      <td>1</td>\n",
       "    </tr>\n",
       "    <tr>\n",
       "      <th>5</th>\n",
       "      <td>-1</td>\n",
       "      <td>1</td>\n",
       "      <td>1</td>\n",
       "      <td>1</td>\n",
       "    </tr>\n",
       "  </tbody>\n",
       "</table>\n",
       "</div>"
      ],
      "text/plain": [
       "    天气 是否周末 是否有促销 销量\n",
       "序号                  \n",
       "1   -1    1     1  1\n",
       "2   -1    1     1  1\n",
       "3   -1    1     1  1\n",
       "4   -1   -1     1  1\n",
       "5   -1    1     1  1"
      ]
     },
     "execution_count": 11,
     "metadata": {},
     "output_type": "execute_result"
    }
   ],
   "source": [
    "data.head()"
   ]
  },
  {
   "cell_type": "code",
   "execution_count": 12,
   "id": "8966e0d3-d204-4d19-8f8c-24bc1d674173",
   "metadata": {},
   "outputs": [],
   "source": [
    "x=data.iloc[:,:3].values\n",
    "y=data.iloc[:,3].values"
   ]
  },
  {
   "cell_type": "code",
   "execution_count": 13,
   "id": "f1aeb724-e81b-4799-bf6d-bcb65171c417",
   "metadata": {},
   "outputs": [],
   "source": [
    "x=x.astype(int)\n",
    "y=y.astype(int)"
   ]
  },
  {
   "cell_type": "code",
   "execution_count": 14,
   "id": "eeeb8029-6173-4ce2-848a-aa828572532f",
   "metadata": {},
   "outputs": [],
   "source": [
    "dtc=DTC(criterion='entropy')"
   ]
  },
  {
   "cell_type": "code",
   "execution_count": 15,
   "id": "1cce6a52-1425-4b77-bce0-a18580d41dbe",
   "metadata": {},
   "outputs": [
    {
     "data": {
      "text/plain": [
       "DecisionTreeClassifier(criterion='entropy')"
      ]
     },
     "execution_count": 15,
     "metadata": {},
     "output_type": "execute_result"
    }
   ],
   "source": [
    "dtc.fit(x,y)"
   ]
  },
  {
   "cell_type": "code",
   "execution_count": 16,
   "id": "645a6ba8-6fdf-49f6-8d7e-760f004cf687",
   "metadata": {},
   "outputs": [
    {
     "name": "stdout",
     "output_type": "stream",
     "text": [
      "accuracy : 0.7647058823529411\n"
     ]
    }
   ],
   "source": [
    "print('accuracy : %s' % dtc.score(x,y))"
   ]
  },
  {
   "cell_type": "code",
   "execution_count": 17,
   "id": "37d712fb-52b0-492e-aabd-176af913b6c7",
   "metadata": {},
   "outputs": [],
   "source": [
    "fn='tutorial/chapter5/demo/data/consumption_data.xls'\n",
    "data=pd.read_excel(fn,index_col='Id')"
   ]
  },
  {
   "cell_type": "code",
   "execution_count": 18,
   "id": "08df811c-ad17-4d5f-b20b-e7c0e72a0720",
   "metadata": {},
   "outputs": [
    {
     "data": {
      "text/html": [
       "<div>\n",
       "<style scoped>\n",
       "    .dataframe tbody tr th:only-of-type {\n",
       "        vertical-align: middle;\n",
       "    }\n",
       "\n",
       "    .dataframe tbody tr th {\n",
       "        vertical-align: top;\n",
       "    }\n",
       "\n",
       "    .dataframe thead th {\n",
       "        text-align: right;\n",
       "    }\n",
       "</style>\n",
       "<table border=\"1\" class=\"dataframe\">\n",
       "  <thead>\n",
       "    <tr style=\"text-align: right;\">\n",
       "      <th></th>\n",
       "      <th>R</th>\n",
       "      <th>F</th>\n",
       "      <th>M</th>\n",
       "    </tr>\n",
       "    <tr>\n",
       "      <th>Id</th>\n",
       "      <th></th>\n",
       "      <th></th>\n",
       "      <th></th>\n",
       "    </tr>\n",
       "  </thead>\n",
       "  <tbody>\n",
       "    <tr>\n",
       "      <th>1</th>\n",
       "      <td>27</td>\n",
       "      <td>6</td>\n",
       "      <td>232.61</td>\n",
       "    </tr>\n",
       "    <tr>\n",
       "      <th>2</th>\n",
       "      <td>3</td>\n",
       "      <td>5</td>\n",
       "      <td>1507.11</td>\n",
       "    </tr>\n",
       "    <tr>\n",
       "      <th>3</th>\n",
       "      <td>4</td>\n",
       "      <td>16</td>\n",
       "      <td>817.62</td>\n",
       "    </tr>\n",
       "    <tr>\n",
       "      <th>4</th>\n",
       "      <td>3</td>\n",
       "      <td>11</td>\n",
       "      <td>232.81</td>\n",
       "    </tr>\n",
       "    <tr>\n",
       "      <th>5</th>\n",
       "      <td>14</td>\n",
       "      <td>7</td>\n",
       "      <td>1913.05</td>\n",
       "    </tr>\n",
       "  </tbody>\n",
       "</table>\n",
       "</div>"
      ],
      "text/plain": [
       "     R   F        M\n",
       "Id                 \n",
       "1   27   6   232.61\n",
       "2    3   5  1507.11\n",
       "3    4  16   817.62\n",
       "4    3  11   232.81\n",
       "5   14   7  1913.05"
      ]
     },
     "execution_count": 18,
     "metadata": {},
     "output_type": "execute_result"
    }
   ],
   "source": [
    "data.head()"
   ]
  },
  {
   "cell_type": "code",
   "execution_count": 19,
   "id": "7f42ae37-dcbb-4d55-b5f2-e12fcb7c28da",
   "metadata": {},
   "outputs": [],
   "source": [
    "data_zs=(data-data.mean())/data.std()"
   ]
  },
  {
   "cell_type": "code",
   "execution_count": 20,
   "id": "a7604c62-abad-4b50-97fa-fe3fae1aa574",
   "metadata": {},
   "outputs": [],
   "source": [
    "k=3\n",
    "iteration=500"
   ]
  },
  {
   "cell_type": "code",
   "execution_count": 21,
   "id": "ce2a8d90-b9c7-49d9-8315-c8da0c7534ef",
   "metadata": {},
   "outputs": [],
   "source": [
    "model=KMeans(n_clusters=k,max_iter=iteration,random_state=1234)"
   ]
  },
  {
   "cell_type": "code",
   "execution_count": 22,
   "id": "b2478c72-561d-4c9a-9887-673cf419c465",
   "metadata": {},
   "outputs": [
    {
     "data": {
      "text/plain": [
       "KMeans(max_iter=500, n_clusters=3, random_state=1234)"
      ]
     },
     "execution_count": 22,
     "metadata": {},
     "output_type": "execute_result"
    }
   ],
   "source": [
    "model.fit(data_zs)"
   ]
  },
  {
   "cell_type": "code",
   "execution_count": 23,
   "id": "2e8df3dc-6d32-4c65-9feb-bf4b6ea2910c",
   "metadata": {},
   "outputs": [],
   "source": [
    "r1 = pd.Series(model.labels_).value_counts()"
   ]
  },
  {
   "cell_type": "code",
   "execution_count": 24,
   "id": "65625b50-5dae-4511-a020-57b54e2a3639",
   "metadata": {},
   "outputs": [],
   "source": [
    "r2 = pd.DataFrame(model.cluster_centers_)"
   ]
  },
  {
   "cell_type": "code",
   "execution_count": 25,
   "id": "760f8412-e652-4f67-8a9b-1dcc23067321",
   "metadata": {},
   "outputs": [
    {
     "data": {
      "text/html": [
       "<div>\n",
       "<style scoped>\n",
       "    .dataframe tbody tr th:only-of-type {\n",
       "        vertical-align: middle;\n",
       "    }\n",
       "\n",
       "    .dataframe tbody tr th {\n",
       "        vertical-align: top;\n",
       "    }\n",
       "\n",
       "    .dataframe thead th {\n",
       "        text-align: right;\n",
       "    }\n",
       "</style>\n",
       "<table border=\"1\" class=\"dataframe\">\n",
       "  <thead>\n",
       "    <tr style=\"text-align: right;\">\n",
       "      <th></th>\n",
       "      <th>0</th>\n",
       "      <th>1</th>\n",
       "      <th>2</th>\n",
       "    </tr>\n",
       "  </thead>\n",
       "  <tbody>\n",
       "    <tr>\n",
       "      <th>0</th>\n",
       "      <td>-0.160451</td>\n",
       "      <td>1.114802</td>\n",
       "      <td>0.392844</td>\n",
       "    </tr>\n",
       "    <tr>\n",
       "      <th>1</th>\n",
       "      <td>3.455055</td>\n",
       "      <td>-0.295654</td>\n",
       "      <td>0.449123</td>\n",
       "    </tr>\n",
       "    <tr>\n",
       "      <th>2</th>\n",
       "      <td>-0.149353</td>\n",
       "      <td>-0.658893</td>\n",
       "      <td>-0.271780</td>\n",
       "    </tr>\n",
       "  </tbody>\n",
       "</table>\n",
       "</div>"
      ],
      "text/plain": [
       "          0         1         2\n",
       "0 -0.160451  1.114802  0.392844\n",
       "1  3.455055 -0.295654  0.449123\n",
       "2 -0.149353 -0.658893 -0.271780"
      ]
     },
     "execution_count": 25,
     "metadata": {},
     "output_type": "execute_result"
    }
   ],
   "source": [
    "r2"
   ]
  },
  {
   "cell_type": "code",
   "execution_count": 26,
   "id": "cc7dc568-952e-4eb1-883b-dc2cf99579bc",
   "metadata": {},
   "outputs": [],
   "source": [
    "r = pd.concat((r2,r1),axis=1)"
   ]
  },
  {
   "cell_type": "code",
   "execution_count": 27,
   "id": "fc385dbd-3dba-4937-846a-387684ea87e2",
   "metadata": {},
   "outputs": [],
   "source": [
    "r.columns=list(data.columns)+['类别数目']"
   ]
  },
  {
   "cell_type": "code",
   "execution_count": 28,
   "id": "3c6ec4ab-6fcd-4be2-a21f-79b3219b43ac",
   "metadata": {},
   "outputs": [
    {
     "name": "stdout",
     "output_type": "stream",
     "text": [
      "          R         F         M  类别数目\n",
      "0 -0.160451  1.114802  0.392844   341\n",
      "1  3.455055 -0.295654  0.449123    40\n",
      "2 -0.149353 -0.658893 -0.271780   559\n"
     ]
    }
   ],
   "source": [
    "print(r)"
   ]
  },
  {
   "cell_type": "code",
   "execution_count": 29,
   "id": "c315a4cb-da57-477c-a871-a8586cfe3e21",
   "metadata": {},
   "outputs": [],
   "source": [
    "r=pd.concat([data,pd.Series(model.labels_,index=data.index)],axis=1)"
   ]
  },
  {
   "cell_type": "code",
   "execution_count": 30,
   "id": "ba51481d-dd44-4d89-be40-8b4d5a26ea80",
   "metadata": {},
   "outputs": [],
   "source": [
    "r.columns=list(data.columns)+['聚类类别']"
   ]
  },
  {
   "cell_type": "code",
   "execution_count": 31,
   "id": "8f489cbd-71db-41e1-8de7-f7d8a2919905",
   "metadata": {},
   "outputs": [
    {
     "data": {
      "text/html": [
       "<div>\n",
       "<style scoped>\n",
       "    .dataframe tbody tr th:only-of-type {\n",
       "        vertical-align: middle;\n",
       "    }\n",
       "\n",
       "    .dataframe tbody tr th {\n",
       "        vertical-align: top;\n",
       "    }\n",
       "\n",
       "    .dataframe thead th {\n",
       "        text-align: right;\n",
       "    }\n",
       "</style>\n",
       "<table border=\"1\" class=\"dataframe\">\n",
       "  <thead>\n",
       "    <tr style=\"text-align: right;\">\n",
       "      <th></th>\n",
       "      <th>R</th>\n",
       "      <th>F</th>\n",
       "      <th>M</th>\n",
       "      <th>聚类类别</th>\n",
       "    </tr>\n",
       "    <tr>\n",
       "      <th>Id</th>\n",
       "      <th></th>\n",
       "      <th></th>\n",
       "      <th></th>\n",
       "      <th></th>\n",
       "    </tr>\n",
       "  </thead>\n",
       "  <tbody>\n",
       "    <tr>\n",
       "      <th>1</th>\n",
       "      <td>27</td>\n",
       "      <td>6</td>\n",
       "      <td>232.61</td>\n",
       "      <td>2</td>\n",
       "    </tr>\n",
       "    <tr>\n",
       "      <th>2</th>\n",
       "      <td>3</td>\n",
       "      <td>5</td>\n",
       "      <td>1507.11</td>\n",
       "      <td>2</td>\n",
       "    </tr>\n",
       "    <tr>\n",
       "      <th>3</th>\n",
       "      <td>4</td>\n",
       "      <td>16</td>\n",
       "      <td>817.62</td>\n",
       "      <td>0</td>\n",
       "    </tr>\n",
       "    <tr>\n",
       "      <th>4</th>\n",
       "      <td>3</td>\n",
       "      <td>11</td>\n",
       "      <td>232.81</td>\n",
       "      <td>2</td>\n",
       "    </tr>\n",
       "    <tr>\n",
       "      <th>5</th>\n",
       "      <td>14</td>\n",
       "      <td>7</td>\n",
       "      <td>1913.05</td>\n",
       "      <td>2</td>\n",
       "    </tr>\n",
       "  </tbody>\n",
       "</table>\n",
       "</div>"
      ],
      "text/plain": [
       "     R   F        M  聚类类别\n",
       "Id                       \n",
       "1   27   6   232.61     2\n",
       "2    3   5  1507.11     2\n",
       "3    4  16   817.62     0\n",
       "4    3  11   232.81     2\n",
       "5   14   7  1913.05     2"
      ]
     },
     "execution_count": 31,
     "metadata": {},
     "output_type": "execute_result"
    }
   ],
   "source": [
    "r.head()"
   ]
  },
  {
   "cell_type": "code",
   "execution_count": 32,
   "id": "85928d6c-321b-4a9f-bbb6-c2fa7dfbde87",
   "metadata": {},
   "outputs": [],
   "source": [
    "def density_plot(data):\n",
    "    p = data.plot(kind='kde',linewidth=2,subplots=True,sharex = False)\n",
    "    [p[i].set_ylabel('density') for i in range(k)]\n",
    "    plt.legend()"
   ]
  },
  {
   "cell_type": "code",
   "execution_count": 33,
   "id": "740c5211-babe-488f-9ac6-b8ec1db55a24",
   "metadata": {},
   "outputs": [
    {
     "data": {
      "image/png": "[encoded data removed]",
      "text/plain": [
       "<Figure size 1440x720 with 3 Axes>"
      ]
     },
     "metadata": {
      "needs_background": "light"
     },
     "output_type": "display_data"
    }
   ],
   "source": [
    "density_plot(data[r['聚类类别']==0])\n",
    "plt.show()"
   ]
  },
  {
   "cell_type": "code",
   "execution_count": 34,
   "id": "ce408ffd-cdf4-4464-94b6-995aae53469f",
   "metadata": {},
   "outputs": [
    {
     "data": {
      "image/png": "[encoded data removed]",
      "text/plain": [
       "<Figure size 1440x720 with 3 Axes>"
      ]
     },
     "metadata": {
      "needs_background": "light"
     },
     "output_type": "display_data"
    }
   ],
   "source": [
    "density_plot(data[r['聚类类别']==1])\n",
    "plt.show()"
   ]
  },
  {
   "cell_type": "code",
   "execution_count": 35,
   "id": "218fbd08-13ea-4c28-b871-995fc2753373",
   "metadata": {},
   "outputs": [
    {
     "data": {
      "image/png": "[encoded data removed]",
      "text/plain": [
       "<Figure size 1440x720 with 3 Axes>"
      ]
     },
     "metadata": {
      "needs_background": "light"
     },
     "output_type": "display_data"
    }
   ],
   "source": [
    "density_plot(data[r['聚类类别']==2])\n",
    "plt.show()"
   ]
  },
  {
   "cell_type": "code",
   "execution_count": 36,
   "id": "813961bf-50a3-4c4f-a2b4-f940ced0f1a3",
   "metadata": {},
   "outputs": [],
   "source": [
    "tsne = TSNE(random_state=105)"
   ]
  },
  {
   "cell_type": "code",
   "execution_count": 37,
   "id": "18079f0f-dc1d-4a09-9e77-9732c0575d49",
   "metadata": {},
   "outputs": [
    {
     "data": {
      "text/plain": [
       "array([[ 10.69704   ,  24.370981  ],\n",
       "       [-28.988472  ,   0.54076564],\n",
       "       [ 28.237013  ,  -9.404069  ],\n",
       "       ...,\n",
       "       [ -0.7135533 ,  -0.4558866 ],\n",
       "       [ -2.9452434 ,   8.225773  ],\n",
       "       [ -5.973362  ,  14.843742  ]], dtype=float32)"
      ]
     },
     "execution_count": 37,
     "metadata": {},
     "output_type": "execute_result"
    }
   ],
   "source": [
    "tsne.fit_transform(data_zs)"
   ]
  },
  {
   "cell_type": "code",
   "execution_count": 38,
   "id": "af64ffe9-239d-460a-8eb2-a895718f07ba",
   "metadata": {},
   "outputs": [],
   "source": [
    "tsne = pd.DataFrame(tsne.embedding_,index=data_zs.index)"
   ]
  },
  {
   "cell_type": "code",
   "execution_count": 39,
   "id": "c6043ddd-e4fa-45c2-92cc-61a7214fafbf",
   "metadata": {},
   "outputs": [
    {
     "data": {
      "image/png": "[encoded data removed]",
      "text/plain": [
       "<Figure size 1440x720 with 1 Axes>"
      ]
     },
     "metadata": {
      "needs_background": "light"
     },
     "output_type": "display_data"
    }
   ],
   "source": [
    "d=tsne[r['聚类类别']==0]\n",
    "plt.plot(d[0],d[1],'r.')\n",
    "d=tsne[r['聚类类别']==1]\n",
    "plt.plot(d[0],d[1],'go')\n",
    "d=tsne[r['聚类类别']==2]\n",
    "plt.plot(d[0],d[1],'b*')\n",
    "plt.show()"
   ]
  },
  {
   "cell_type": "code",
   "execution_count": 40,
   "id": "0165c45b-6b93-43dd-9f53-d056669851f9",
   "metadata": {},
   "outputs": [],
   "source": [
    "fn='tutorial/chapter5/demo/data/menu_orders.xls'\n",
    "data=pd.read_excel(fn,header=None)"
   ]
  },
  {
   "cell_type": "code",
   "execution_count": 41,
   "id": "d2f82a2a-8c4c-4e9f-ad78-aa7297999756",
   "metadata": {},
   "outputs": [
    {
     "data": {
      "text/html": [
       "<div>\n",
       "<style scoped>\n",
       "    .dataframe tbody tr th:only-of-type {\n",
       "        vertical-align: middle;\n",
       "    }\n",
       "\n",
       "    .dataframe tbody tr th {\n",
       "        vertical-align: top;\n",
       "    }\n",
       "\n",
       "    .dataframe thead th {\n",
       "        text-align: right;\n",
       "    }\n",
       "</style>\n",
       "<table border=\"1\" class=\"dataframe\">\n",
       "  <thead>\n",
       "    <tr style=\"text-align: right;\">\n",
       "      <th></th>\n",
       "      <th>0</th>\n",
       "      <th>1</th>\n",
       "      <th>2</th>\n",
       "      <th>3</th>\n",
       "    </tr>\n",
       "  </thead>\n",
       "  <tbody>\n",
       "    <tr>\n",
       "      <th>count</th>\n",
       "      <td>10</td>\n",
       "      <td>10</td>\n",
       "      <td>5</td>\n",
       "      <td>2</td>\n",
       "    </tr>\n",
       "    <tr>\n",
       "      <th>unique</th>\n",
       "      <td>2</td>\n",
       "      <td>3</td>\n",
       "      <td>2</td>\n",
       "      <td>2</td>\n",
       "    </tr>\n",
       "    <tr>\n",
       "      <th>top</th>\n",
       "      <td>a</td>\n",
       "      <td>b</td>\n",
       "      <td>c</td>\n",
       "      <td>d</td>\n",
       "    </tr>\n",
       "    <tr>\n",
       "      <th>freq</th>\n",
       "      <td>7</td>\n",
       "      <td>5</td>\n",
       "      <td>3</td>\n",
       "      <td>1</td>\n",
       "    </tr>\n",
       "  </tbody>\n",
       "</table>\n",
       "</div>"
      ],
      "text/plain": [
       "         0   1  2  3\n",
       "count   10  10  5  2\n",
       "unique   2   3  2  2\n",
       "top      a   b  c  d\n",
       "freq     7   5  3  1"
      ]
     },
     "execution_count": 41,
     "metadata": {},
     "output_type": "execute_result"
    }
   ],
   "source": [
    "data.describe()"
   ]
  },
  {
   "cell_type": "code",
   "execution_count": 42,
   "id": "b284d844-bfca-498f-9f09-7b468a8adbb5",
   "metadata": {},
   "outputs": [
    {
     "data": {
      "text/html": [
       "<div>\n",
       "<style scoped>\n",
       "    .dataframe tbody tr th:only-of-type {\n",
       "        vertical-align: middle;\n",
       "    }\n",
       "\n",
       "    .dataframe tbody tr th {\n",
       "        vertical-align: top;\n",
       "    }\n",
       "\n",
       "    .dataframe thead th {\n",
       "        text-align: right;\n",
       "    }\n",
       "</style>\n",
       "<table border=\"1\" class=\"dataframe\">\n",
       "  <thead>\n",
       "    <tr style=\"text-align: right;\">\n",
       "      <th></th>\n",
       "      <th>0</th>\n",
       "      <th>1</th>\n",
       "      <th>2</th>\n",
       "      <th>3</th>\n",
       "    </tr>\n",
       "  </thead>\n",
       "  <tbody>\n",
       "    <tr>\n",
       "      <th>0</th>\n",
       "      <td>a</td>\n",
       "      <td>c</td>\n",
       "      <td>e</td>\n",
       "      <td>NaN</td>\n",
       "    </tr>\n",
       "    <tr>\n",
       "      <th>1</th>\n",
       "      <td>b</td>\n",
       "      <td>d</td>\n",
       "      <td>NaN</td>\n",
       "      <td>NaN</td>\n",
       "    </tr>\n",
       "    <tr>\n",
       "      <th>2</th>\n",
       "      <td>b</td>\n",
       "      <td>c</td>\n",
       "      <td>NaN</td>\n",
       "      <td>NaN</td>\n",
       "    </tr>\n",
       "    <tr>\n",
       "      <th>3</th>\n",
       "      <td>a</td>\n",
       "      <td>b</td>\n",
       "      <td>c</td>\n",
       "      <td>d</td>\n",
       "    </tr>\n",
       "    <tr>\n",
       "      <th>4</th>\n",
       "      <td>a</td>\n",
       "      <td>b</td>\n",
       "      <td>NaN</td>\n",
       "      <td>NaN</td>\n",
       "    </tr>\n",
       "  </tbody>\n",
       "</table>\n",
       "</div>"
      ],
      "text/plain": [
       "   0  1    2    3\n",
       "0  a  c    e  NaN\n",
       "1  b  d  NaN  NaN\n",
       "2  b  c  NaN  NaN\n",
       "3  a  b    c    d\n",
       "4  a  b  NaN  NaN"
      ]
     },
     "execution_count": 42,
     "metadata": {},
     "output_type": "execute_result"
    }
   ],
   "source": [
    "data.head()"
   ]
  },
  {
   "cell_type": "code",
   "execution_count": 43,
   "id": "a10923d6-b137-4db8-966c-db6e525d402b",
   "metadata": {},
   "outputs": [
    {
     "data": {
      "text/plain": [
       "10"
      ]
     },
     "execution_count": 43,
     "metadata": {},
     "output_type": "execute_result"
    }
   ],
   "source": [
    "len(data)"
   ]
  },
  {
   "cell_type": "code",
   "execution_count": 44,
   "id": "b87ffa2c-6f2c-4abf-b740-ddd0ee6122dc",
   "metadata": {},
   "outputs": [],
   "source": [
    "ct=lambda x : pd.Series(1, index=x[pd.notnull(x)])"
   ]
  },
  {
   "cell_type": "code",
   "execution_count": 45,
   "id": "023fbabb-5cb2-45f8-a1fa-85d780100569",
   "metadata": {},
   "outputs": [],
   "source": [
    "b = map(ct, data.values)"
   ]
  },
  {
   "cell_type": "code",
   "execution_count": 46,
   "id": "927303ba-2143-4ddc-b5a3-8ee93533c72a",
   "metadata": {},
   "outputs": [],
   "source": [
    "data = pd.DataFrame(list(b)).fillna(0)"
   ]
  },
  {
   "cell_type": "code",
   "execution_count": 47,
   "id": "1489ce1f-18de-40d3-af4d-a3ff74b7c611",
   "metadata": {},
   "outputs": [
    {
     "data": {
      "text/html": [
       "<div>\n",
       "<style scoped>\n",
       "    .dataframe tbody tr th:only-of-type {\n",
       "        vertical-align: middle;\n",
       "    }\n",
       "\n",
       "    .dataframe tbody tr th {\n",
       "        vertical-align: top;\n",
       "    }\n",
       "\n",
       "    .dataframe thead th {\n",
       "        text-align: right;\n",
       "    }\n",
       "</style>\n",
       "<table border=\"1\" class=\"dataframe\">\n",
       "  <thead>\n",
       "    <tr style=\"text-align: right;\">\n",
       "      <th></th>\n",
       "      <th>a</th>\n",
       "      <th>c</th>\n",
       "      <th>e</th>\n",
       "      <th>b</th>\n",
       "      <th>d</th>\n",
       "    </tr>\n",
       "  </thead>\n",
       "  <tbody>\n",
       "    <tr>\n",
       "      <th>0</th>\n",
       "      <td>1.0</td>\n",
       "      <td>1.0</td>\n",
       "      <td>1.0</td>\n",
       "      <td>0.0</td>\n",
       "      <td>0.0</td>\n",
       "    </tr>\n",
       "    <tr>\n",
       "      <th>1</th>\n",
       "      <td>0.0</td>\n",
       "      <td>0.0</td>\n",
       "      <td>0.0</td>\n",
       "      <td>1.0</td>\n",
       "      <td>1.0</td>\n",
       "    </tr>\n",
       "    <tr>\n",
       "      <th>2</th>\n",
       "      <td>0.0</td>\n",
       "      <td>1.0</td>\n",
       "      <td>0.0</td>\n",
       "      <td>1.0</td>\n",
       "      <td>0.0</td>\n",
       "    </tr>\n",
       "    <tr>\n",
       "      <th>3</th>\n",
       "      <td>1.0</td>\n",
       "      <td>1.0</td>\n",
       "      <td>0.0</td>\n",
       "      <td>1.0</td>\n",
       "      <td>1.0</td>\n",
       "    </tr>\n",
       "    <tr>\n",
       "      <th>4</th>\n",
       "      <td>1.0</td>\n",
       "      <td>0.0</td>\n",
       "      <td>0.0</td>\n",
       "      <td>1.0</td>\n",
       "      <td>0.0</td>\n",
       "    </tr>\n",
       "  </tbody>\n",
       "</table>\n",
       "</div>"
      ],
      "text/plain": [
       "     a    c    e    b    d\n",
       "0  1.0  1.0  1.0  0.0  0.0\n",
       "1  0.0  0.0  0.0  1.0  1.0\n",
       "2  0.0  1.0  0.0  1.0  0.0\n",
       "3  1.0  1.0  0.0  1.0  1.0\n",
       "4  1.0  0.0  0.0  1.0  0.0"
      ]
     },
     "execution_count": 47,
     "metadata": {},
     "output_type": "execute_result"
    }
   ],
   "source": [
    "data.head()"
   ]
  },
  {
   "cell_type": "code",
   "execution_count": 48,
   "id": "a841bbcd-24cb-4fc9-9741-514dcef52f57",
   "metadata": {},
   "outputs": [],
   "source": [
    "support = 0.2\n",
    "confidence = 0.5\n",
    "ms = '-->'"
   ]
  },
  {
   "cell_type": "code",
   "execution_count": 49,
   "id": "c105ea66-02b9-4927-a0d4-31dc1a63db68",
   "metadata": {},
   "outputs": [
    {
     "name": "stdout",
     "output_type": "stream",
     "text": [
      "\n",
      "正在进行第1次搜索...\n",
      "数目：6...\n",
      "\n",
      "正在进行第2次搜索...\n",
      "数目：3...\n",
      "\n",
      "正在进行第3次搜索...\n",
      "数目：0...\n",
      "\n",
      "结果为：\n",
      "           support  confidence\n",
      "e-->a          0.3    1.000000\n",
      "e-->c          0.3    1.000000\n",
      "c-->e-->a      0.3    1.000000\n",
      "a-->e-->c      0.3    1.000000\n",
      "c-->a          0.5    0.714286\n",
      "a-->c          0.5    0.714286\n",
      "a-->b          0.5    0.714286\n",
      "c-->b          0.5    0.714286\n",
      "b-->a          0.5    0.625000\n",
      "b-->c          0.5    0.625000\n",
      "a-->c-->e      0.3    0.600000\n",
      "b-->c-->a      0.3    0.600000\n",
      "a-->c-->b      0.3    0.600000\n",
      "a-->b-->c      0.3    0.600000\n"
     ]
    }
   ],
   "source": [
    "res = find_rule(data, support, confidence,ms)"
   ]
  },
  {
   "cell_type": "code",
   "execution_count": 51,
   "id": "611d85bd-c8aa-4470-ab97-9e3c339314d9",
   "metadata": {},
   "outputs": [],
   "source": [
    "fn='tutorial/chapter5/demo/data/arima_data.xls'\n",
    "data=pd.read_excel(fn,index_col='日期')"
   ]
  },
  {
   "cell_type": "code",
   "execution_count": 52,
   "id": "c1b1ae5e-fdce-48a6-837f-e510f51d8758",
   "metadata": {},
   "outputs": [
    {
     "data": {
      "text/html": [
       "<div>\n",
       "<style scoped>\n",
       "    .dataframe tbody tr th:only-of-type {\n",
       "        vertical-align: middle;\n",
       "    }\n",
       "\n",
       "    .dataframe tbody tr th {\n",
       "        vertical-align: top;\n",
       "    }\n",
       "\n",
       "    .dataframe thead th {\n",
       "        text-align: right;\n",
       "    }\n",
       "</style>\n",
       "<table border=\"1\" class=\"dataframe\">\n",
       "  <thead>\n",
       "    <tr style=\"text-align: right;\">\n",
       "      <th></th>\n",
       "      <th>销量</th>\n",
       "    </tr>\n",
       "    <tr>\n",
       "      <th>日期</th>\n",
       "      <th></th>\n",
       "    </tr>\n",
       "  </thead>\n",
       "  <tbody>\n",
       "    <tr>\n",
       "      <th>2015-01-01</th>\n",
       "      <td>3023</td>\n",
       "    </tr>\n",
       "    <tr>\n",
       "      <th>2015-01-02</th>\n",
       "      <td>3039</td>\n",
       "    </tr>\n",
       "    <tr>\n",
       "      <th>2015-01-03</th>\n",
       "      <td>3056</td>\n",
       "    </tr>\n",
       "    <tr>\n",
       "      <th>2015-01-04</th>\n",
       "      <td>3138</td>\n",
       "    </tr>\n",
       "    <tr>\n",
       "      <th>2015-01-05</th>\n",
       "      <td>3188</td>\n",
       "    </tr>\n",
       "  </tbody>\n",
       "</table>\n",
       "</div>"
      ],
      "text/plain": [
       "              销量\n",
       "日期              \n",
       "2015-01-01  3023\n",
       "2015-01-02  3039\n",
       "2015-01-03  3056\n",
       "2015-01-04  3138\n",
       "2015-01-05  3188"
      ]
     },
     "execution_count": 52,
     "metadata": {},
     "output_type": "execute_result"
    }
   ],
   "source": [
    "data.head()"
   ]
  },
  {
   "cell_type": "code",
   "execution_count": 55,
   "id": "e4b6812f-2be5-404b-acc4-c657444ecf96",
   "metadata": {},
   "outputs": [
    {
     "data": {
      "image/png": "[encoded data removed]",
      "text/plain": [
       "<Figure size 1440x720 with 1 Axes>"
      ]
     },
     "metadata": {
      "needs_background": "light"
     },
     "output_type": "display_data"
    }
   ],
   "source": [
    "data.plot()\n",
    "plt.show()"
   ]
  },
  {
   "cell_type": "code",
   "execution_count": 72,
   "id": "f13ec394-c396-4c82-a987-5f95396a5931",
   "metadata": {},
   "outputs": [
    {
     "data": {
      "image/png": "[encoded data removed]",
      "text/plain": [
       "<Figure size 1440x720 with 1 Axes>"
      ]
     },
     "metadata": {
      "needs_background": "light"
     },
     "output_type": "display_data"
    }
   ],
   "source": [
    "plot_acf(data,lags=len(data)-1)\n",
    "plt.show()"
   ]
  },
  {
   "cell_type": "code",
   "execution_count": 66,
   "id": "06e91345-eadc-4b76-a0b9-e1c908bbe12e",
   "metadata": {},
   "outputs": [
    {
     "name": "stdout",
     "output_type": "stream",
     "text": [
      "(1.813771015094526, 0.9983759421514264, 10, 26, {'1%': -3.7112123008648155, '5%': -2.981246804733728, '10%': -2.6300945562130176}, 299.46989866024177)\n"
     ]
    }
   ],
   "source": [
    "print(ADF(data['销量']))"
   ]
  },
  {
   "cell_type": "code",
   "execution_count": 75,
   "id": "28374c11-dc6f-4c90-b86f-e0523669a5d1",
   "metadata": {},
   "outputs": [],
   "source": [
    "D_data = data.diff()"
   ]
  },
  {
   "cell_type": "code",
   "execution_count": 77,
   "id": "2bff982c-68b7-4fa7-bb6a-ff81a5ed4000",
   "metadata": {},
   "outputs": [
    {
     "data": {
      "text/html": [
       "<div>\n",
       "<style scoped>\n",
       "    .dataframe tbody tr th:only-of-type {\n",
       "        vertical-align: middle;\n",
       "    }\n",
       "\n",
       "    .dataframe tbody tr th {\n",
       "        vertical-align: top;\n",
       "    }\n",
       "\n",
       "    .dataframe thead th {\n",
       "        text-align: right;\n",
       "    }\n",
       "</style>\n",
       "<table border=\"1\" class=\"dataframe\">\n",
       "  <thead>\n",
       "    <tr style=\"text-align: right;\">\n",
       "      <th></th>\n",
       "      <th>销量</th>\n",
       "    </tr>\n",
       "    <tr>\n",
       "      <th>日期</th>\n",
       "      <th></th>\n",
       "    </tr>\n",
       "  </thead>\n",
       "  <tbody>\n",
       "    <tr>\n",
       "      <th>2015-01-01</th>\n",
       "      <td>3023</td>\n",
       "    </tr>\n",
       "    <tr>\n",
       "      <th>2015-01-02</th>\n",
       "      <td>3039</td>\n",
       "    </tr>\n",
       "    <tr>\n",
       "      <th>2015-01-03</th>\n",
       "      <td>3056</td>\n",
       "    </tr>\n",
       "    <tr>\n",
       "      <th>2015-01-04</th>\n",
       "      <td>3138</td>\n",
       "    </tr>\n",
       "    <tr>\n",
       "      <th>2015-01-05</th>\n",
       "      <td>3188</td>\n",
       "    </tr>\n",
       "  </tbody>\n",
       "</table>\n",
       "</div>"
      ],
      "text/plain": [
       "              销量\n",
       "日期              \n",
       "2015-01-01  3023\n",
       "2015-01-02  3039\n",
       "2015-01-03  3056\n",
       "2015-01-04  3138\n",
       "2015-01-05  3188"
      ]
     },
     "execution_count": 77,
     "metadata": {},
     "output_type": "execute_result"
    }
   ],
   "source": [
    "data.head()"
   ]
  },
  {
   "cell_type": "code",
   "execution_count": 76,
   "id": "9182b1ff-c7cf-498d-84be-1966ea737e62",
   "metadata": {},
   "outputs": [
    {
     "data": {
      "text/html": [
       "<div>\n",
       "<style scoped>\n",
       "    .dataframe tbody tr th:only-of-type {\n",
       "        vertical-align: middle;\n",
       "    }\n",
       "\n",
       "    .dataframe tbody tr th {\n",
       "        vertical-align: top;\n",
       "    }\n",
       "\n",
       "    .dataframe thead th {\n",
       "        text-align: right;\n",
       "    }\n",
       "</style>\n",
       "<table border=\"1\" class=\"dataframe\">\n",
       "  <thead>\n",
       "    <tr style=\"text-align: right;\">\n",
       "      <th></th>\n",
       "      <th>销量</th>\n",
       "    </tr>\n",
       "    <tr>\n",
       "      <th>日期</th>\n",
       "      <th></th>\n",
       "    </tr>\n",
       "  </thead>\n",
       "  <tbody>\n",
       "    <tr>\n",
       "      <th>2015-01-01</th>\n",
       "      <td>NaN</td>\n",
       "    </tr>\n",
       "    <tr>\n",
       "      <th>2015-01-02</th>\n",
       "      <td>16.0</td>\n",
       "    </tr>\n",
       "    <tr>\n",
       "      <th>2015-01-03</th>\n",
       "      <td>17.0</td>\n",
       "    </tr>\n",
       "    <tr>\n",
       "      <th>2015-01-04</th>\n",
       "      <td>82.0</td>\n",
       "    </tr>\n",
       "    <tr>\n",
       "      <th>2015-01-05</th>\n",
       "      <td>50.0</td>\n",
       "    </tr>\n",
       "  </tbody>\n",
       "</table>\n",
       "</div>"
      ],
      "text/plain": [
       "              销量\n",
       "日期              \n",
       "2015-01-01   NaN\n",
       "2015-01-02  16.0\n",
       "2015-01-03  17.0\n",
       "2015-01-04  82.0\n",
       "2015-01-05  50.0"
      ]
     },
     "execution_count": 76,
     "metadata": {},
     "output_type": "execute_result"
    }
   ],
   "source": [
    "D_data.head()"
   ]
  },
  {
   "cell_type": "code",
   "execution_count": 78,
   "id": "d60fbca1-a00c-410e-b8db-aed59b004355",
   "metadata": {},
   "outputs": [],
   "source": [
    "D_data=data.diff().dropna()"
   ]
  },
  {
   "cell_type": "code",
   "execution_count": 79,
   "id": "2af4b0b5-9fe7-410f-ad17-b3ae98717bf3",
   "metadata": {},
   "outputs": [
    {
     "data": {
      "text/plain": [
       "36"
      ]
     },
     "execution_count": 79,
     "metadata": {},
     "output_type": "execute_result"
    }
   ],
   "source": [
    "len(D_data)"
   ]
  },
  {
   "cell_type": "code",
   "execution_count": 80,
   "id": "9704ab31-4fa0-49e6-a8bf-292f176a3df7",
   "metadata": {},
   "outputs": [],
   "source": [
    "D_data.columns=['销量差分']"
   ]
  },
  {
   "cell_type": "code",
   "execution_count": 81,
   "id": "7bc4f6f3-db8b-4a44-9ffd-a727a563893c",
   "metadata": {},
   "outputs": [
    {
     "data": {
      "text/html": [
       "<div>\n",
       "<style scoped>\n",
       "    .dataframe tbody tr th:only-of-type {\n",
       "        vertical-align: middle;\n",
       "    }\n",
       "\n",
       "    .dataframe tbody tr th {\n",
       "        vertical-align: top;\n",
       "    }\n",
       "\n",
       "    .dataframe thead th {\n",
       "        text-align: right;\n",
       "    }\n",
       "</style>\n",
       "<table border=\"1\" class=\"dataframe\">\n",
       "  <thead>\n",
       "    <tr style=\"text-align: right;\">\n",
       "      <th></th>\n",
       "      <th>销量差分</th>\n",
       "    </tr>\n",
       "    <tr>\n",
       "      <th>日期</th>\n",
       "      <th></th>\n",
       "    </tr>\n",
       "  </thead>\n",
       "  <tbody>\n",
       "    <tr>\n",
       "      <th>2015-01-02</th>\n",
       "      <td>16.0</td>\n",
       "    </tr>\n",
       "    <tr>\n",
       "      <th>2015-01-03</th>\n",
       "      <td>17.0</td>\n",
       "    </tr>\n",
       "    <tr>\n",
       "      <th>2015-01-04</th>\n",
       "      <td>82.0</td>\n",
       "    </tr>\n",
       "    <tr>\n",
       "      <th>2015-01-05</th>\n",
       "      <td>50.0</td>\n",
       "    </tr>\n",
       "    <tr>\n",
       "      <th>2015-01-06</th>\n",
       "      <td>36.0</td>\n",
       "    </tr>\n",
       "  </tbody>\n",
       "</table>\n",
       "</div>"
      ],
      "text/plain": [
       "            销量差分\n",
       "日期              \n",
       "2015-01-02  16.0\n",
       "2015-01-03  17.0\n",
       "2015-01-04  82.0\n",
       "2015-01-05  50.0\n",
       "2015-01-06  36.0"
      ]
     },
     "execution_count": 81,
     "metadata": {},
     "output_type": "execute_result"
    }
   ],
   "source": [
    "D_data.head()"
   ]
  },
  {
   "cell_type": "code",
   "execution_count": 82,
   "id": "00e39386-f493-4df0-9750-e8367b9da54c",
   "metadata": {},
   "outputs": [
    {
     "data": {
      "image/png": "[encoded data removed]",
      "text/plain": [
       "<Figure size 1440x720 with 1 Axes>"
      ]
     },
     "metadata": {
      "needs_background": "light"
     },
     "output_type": "display_data"
    }
   ],
   "source": [
    "D_data.plot()\n",
    "plt.show()"
   ]
  },
  {
   "cell_type": "code",
   "execution_count": 84,
   "id": "37230b0c-6a40-411e-8911-33c072b333ab",
   "metadata": {},
   "outputs": [
    {
     "data": {
      "image/png": "[encoded data removed]",
      "text/plain": [
       "<Figure size 1440x720 with 1 Axes>"
      ]
     },
     "metadata": {
      "needs_background": "light"
     },
     "output_type": "display_data"
    }
   ],
   "source": [
    "plot_acf(D_data,lags=len(D_data)-1)\n",
    "plt.show()"
   ]
  },
  {
   "cell_type": "code",
   "execution_count": 86,
   "id": "8a354258-8e33-450a-9f6e-83d56aecbbbc",
   "metadata": {},
   "outputs": [
    {
     "name": "stdout",
     "output_type": "stream",
     "text": [
      "(-3.1560562366723537, 0.022673435440048798, 0, 35, {'1%': -3.6327426647230316, '5%': -2.9485102040816327, '10%': -2.6130173469387756}, 287.5909090780334)\n"
     ]
    }
   ],
   "source": [
    "print(ADF(D_data))"
   ]
  },
  {
   "cell_type": "code",
   "execution_count": 90,
   "id": "d6cc8283-ad49-475d-a190-489c1fd213b3",
   "metadata": {},
   "outputs": [
    {
     "name": "stdout",
     "output_type": "stream",
     "text": [
      "diff white noise check  (array([11.30402222]), array([0.00077339]))\n"
     ]
    }
   ],
   "source": [
    "print('diff white noise check ' , acorr_ljungbox(D_data,lags=1))"
   ]
  },
  {
   "cell_type": "code",
   "execution_count": 107,
   "id": "8fa088c7-f8e3-439e-9de1-3a98fc9c5f75",
   "metadata": {},
   "outputs": [],
   "source": [
    "data['销量']=data['销量'].astype(float)"
   ]
  },
  {
   "cell_type": "code",
   "execution_count": 108,
   "id": "f7de8f8c-2d5d-4254-80f9-2ee609859e2a",
   "metadata": {},
   "outputs": [],
   "source": [
    "pmax = int(len(D_data) / 10)\n",
    "qmax = int(len(D_data) / 10)"
   ]
  },
  {
   "cell_type": "code",
   "execution_count": 115,
   "id": "279b3aba-0811-4d53-96ce-2d165981bf33",
   "metadata": {},
   "outputs": [
    {
     "name": "stderr",
     "output_type": "stream",
     "text": [
      "/Users/xiebian/anaconda3/envs/web/lib/python3.9/site-packages/statsmodels/tsa/statespace/sarimax.py:966: UserWarning: Non-stationary starting autoregressive parameters found. Using zeros as starting parameters.\n",
      "  warn('Non-stationary starting autoregressive parameters'\n",
      "/Users/xiebian/anaconda3/envs/web/lib/python3.9/site-packages/statsmodels/tsa/statespace/sarimax.py:978: UserWarning: Non-invertible starting MA parameters found. Using zeros as starting parameters.\n",
      "  warn('Non-invertible starting MA parameters found.'\n",
      "/Users/xiebian/anaconda3/envs/web/lib/python3.9/site-packages/statsmodels/base/model.py:566: ConvergenceWarning: Maximum Likelihood optimization failed to converge. Check mle_retvals\n",
      "  warnings.warn(\"Maximum Likelihood optimization failed to \"\n"
     ]
    }
   ],
   "source": [
    "bic_matrix = []\n",
    "for p in range(pmax+1):\n",
    "    tmp = []\n",
    "    for q in range(qmax+1):\n",
    "        try:\n",
    "            tmp.append(ARIMA(data,order=(p,1,q)).fit().bic)\n",
    "        except:\n",
    "            tmp.append(None)\n",
    "    bic_matrix.append(tmp)"
   ]
  },
  {
   "cell_type": "code",
   "execution_count": 119,
   "id": "3bdf6ae7-22b7-4150-94be-5f22fd8cd23e",
   "metadata": {},
   "outputs": [],
   "source": [
    "bic_matrix = pd.DataFrame(bic_matrix)"
   ]
  },
  {
   "cell_type": "code",
   "execution_count": 124,
   "id": "e4796df9-611d-446a-9fc2-31385cede366",
   "metadata": {},
   "outputs": [
    {
     "data": {
      "text/html": [
       "<div>\n",
       "<style scoped>\n",
       "    .dataframe tbody tr th:only-of-type {\n",
       "        vertical-align: middle;\n",
       "    }\n",
       "\n",
       "    .dataframe tbody tr th {\n",
       "        vertical-align: top;\n",
       "    }\n",
       "\n",
       "    .dataframe thead th {\n",
       "        text-align: right;\n",
       "    }\n",
       "</style>\n",
       "<table border=\"1\" class=\"dataframe\">\n",
       "  <thead>\n",
       "    <tr style=\"text-align: right;\">\n",
       "      <th></th>\n",
       "      <th>0</th>\n",
       "      <th>1</th>\n",
       "      <th>2</th>\n",
       "      <th>3</th>\n",
       "    </tr>\n",
       "  </thead>\n",
       "  <tbody>\n",
       "    <tr>\n",
       "      <th>0</th>\n",
       "      <td>438.408893</td>\n",
       "      <td>424.350507</td>\n",
       "      <td>427.653560</td>\n",
       "      <td>426.418221</td>\n",
       "    </tr>\n",
       "    <tr>\n",
       "      <th>1</th>\n",
       "      <td>422.817415</td>\n",
       "      <td>426.301323</td>\n",
       "      <td>428.151390</td>\n",
       "      <td>429.746909</td>\n",
       "    </tr>\n",
       "    <tr>\n",
       "      <th>2</th>\n",
       "      <td>426.339071</td>\n",
       "      <td>426.660227</td>\n",
       "      <td>429.953819</td>\n",
       "      <td>433.214130</td>\n",
       "    </tr>\n",
       "    <tr>\n",
       "      <th>3</th>\n",
       "      <td>429.547314</td>\n",
       "      <td>429.825668</td>\n",
       "      <td>433.283967</td>\n",
       "      <td>432.608406</td>\n",
       "    </tr>\n",
       "  </tbody>\n",
       "</table>\n",
       "</div>"
      ],
      "text/plain": [
       "            0           1           2           3\n",
       "0  438.408893  424.350507  427.653560  426.418221\n",
       "1  422.817415  426.301323  428.151390  429.746909\n",
       "2  426.339071  426.660227  429.953819  433.214130\n",
       "3  429.547314  429.825668  433.283967  432.608406"
      ]
     },
     "execution_count": 124,
     "metadata": {},
     "output_type": "execute_result"
    }
   ],
   "source": [
    "bic_matrix"
   ]
  },
  {
   "cell_type": "code",
   "execution_count": 121,
   "id": "145375d2-384c-4449-b75d-1721b923539c",
   "metadata": {},
   "outputs": [],
   "source": [
    "p,q = bic_matrix.stack().idxmin()"
   ]
  },
  {
   "cell_type": "code",
   "execution_count": 122,
   "id": "5820c6b7-ce9e-41a9-9fea-7b4eed55b0c5",
   "metadata": {},
   "outputs": [
    {
     "data": {
      "text/plain": [
       "(1, 0)"
      ]
     },
     "execution_count": 122,
     "metadata": {},
     "output_type": "execute_result"
    }
   ],
   "source": [
    "p,q"
   ]
  },
  {
   "cell_type": "code",
   "execution_count": 125,
   "id": "e585007c-1ce4-4b65-abad-ecd1939d962d",
   "metadata": {},
   "outputs": [
    {
     "name": "stderr",
     "output_type": "stream",
     "text": [
      "/Users/xiebian/anaconda3/envs/web/lib/python3.9/site-packages/statsmodels/tsa/base/tsa_model.py:524: ValueWarning: No frequency information was provided, so inferred frequency D will be used.\n",
      "  warnings.warn('No frequency information was'\n"
     ]
    }
   ],
   "source": [
    "model=ARIMA(data,order=(p,1,q)).fit()"
   ]
  },
  {
   "cell_type": "code",
   "execution_count": 130,
   "id": "05eed29b-e6a9-4a80-9afc-68364cfce300",
   "metadata": {},
   "outputs": [
    {
     "name": "stdout",
     "output_type": "stream",
     "text": [
      "                               SARIMAX Results                                \n",
      "==============================================================================\n",
      "Dep. Variable:                     销量   No. Observations:                   37\n",
      "Model:                 ARIMA(1, 1, 0)   Log Likelihood                -207.825\n",
      "Date:                Mon, 28 Jun 2021   AIC                            419.650\n",
      "Time:                        11:53:16   BIC                            422.817\n",
      "Sample:                    01-01-2015   HQIC                           420.756\n",
      "                         - 02-06-2015                                         \n",
      "Covariance Type:                  opg                                         \n",
      "==============================================================================\n",
      "                 coef    std err          z      P>|z|      [0.025      0.975]\n",
      "------------------------------------------------------------------------------\n",
      "ar.L1          0.6347      0.109      5.821      0.000       0.421       0.848\n",
      "sigma2      5963.5743   1327.260      4.493      0.000    3362.192    8564.957\n",
      "===================================================================================\n",
      "Ljung-Box (L1) (Q):                   0.01   Jarque-Bera (JB):                 1.13\n",
      "Prob(Q):                              0.91   Prob(JB):                         0.57\n",
      "Heteroskedasticity (H):               1.52   Skew:                            -0.30\n",
      "Prob(H) (two-sided):                  0.48   Kurtosis:                         3.63\n",
      "===================================================================================\n",
      "\n",
      "Warnings:\n",
      "[1] Covariance matrix calculated using the outer product of gradients (complex-step).\n"
     ]
    }
   ],
   "source": [
    "print(model.summary())"
   ]
  },
  {
   "cell_type": "code",
   "execution_count": 137,
   "id": "ff2b8fae-5db1-4101-a9c9-4284eb1cac21",
   "metadata": {},
   "outputs": [
    {
     "data": {
      "text/html": [
       "<div>\n",
       "<style scoped>\n",
       "    .dataframe tbody tr th:only-of-type {\n",
       "        vertical-align: middle;\n",
       "    }\n",
       "\n",
       "    .dataframe tbody tr th {\n",
       "        vertical-align: top;\n",
       "    }\n",
       "\n",
       "    .dataframe thead th {\n",
       "        text-align: right;\n",
       "    }\n",
       "</style>\n",
       "<table border=\"1\" class=\"dataframe\">\n",
       "  <thead>\n",
       "    <tr style=\"text-align: right;\">\n",
       "      <th></th>\n",
       "      <th>销量</th>\n",
       "    </tr>\n",
       "    <tr>\n",
       "      <th>日期</th>\n",
       "      <th></th>\n",
       "    </tr>\n",
       "  </thead>\n",
       "  <tbody>\n",
       "    <tr>\n",
       "      <th>2015-02-02</th>\n",
       "      <td>4493.0</td>\n",
       "    </tr>\n",
       "    <tr>\n",
       "      <th>2015-02-03</th>\n",
       "      <td>4560.0</td>\n",
       "    </tr>\n",
       "    <tr>\n",
       "      <th>2015-02-04</th>\n",
       "      <td>4637.0</td>\n",
       "    </tr>\n",
       "    <tr>\n",
       "      <th>2015-02-05</th>\n",
       "      <td>4755.0</td>\n",
       "    </tr>\n",
       "    <tr>\n",
       "      <th>2015-02-06</th>\n",
       "      <td>4817.0</td>\n",
       "    </tr>\n",
       "  </tbody>\n",
       "</table>\n",
       "</div>"
      ],
      "text/plain": [
       "                销量\n",
       "日期                \n",
       "2015-02-02  4493.0\n",
       "2015-02-03  4560.0\n",
       "2015-02-04  4637.0\n",
       "2015-02-05  4755.0\n",
       "2015-02-06  4817.0"
      ]
     },
     "execution_count": 137,
     "metadata": {},
     "output_type": "execute_result"
    }
   ],
   "source": [
    "data.tail()"
   ]
  },
  {
   "cell_type": "code",
   "execution_count": 132,
   "id": "dc04ba3f-ce1b-4164-9535-36e9d0de2f30",
   "metadata": {},
   "outputs": [
    {
     "data": {
      "text/plain": [
       "\u001b[0;31mSignature:\u001b[0m \u001b[0mmodel\u001b[0m\u001b[0;34m.\u001b[0m\u001b[0mpredict\u001b[0m\u001b[0;34m(\u001b[0m\u001b[0mstart\u001b[0m\u001b[0;34m=\u001b[0m\u001b[0;32mNone\u001b[0m\u001b[0;34m,\u001b[0m \u001b[0mend\u001b[0m\u001b[0;34m=\u001b[0m\u001b[0;32mNone\u001b[0m\u001b[0;34m,\u001b[0m \u001b[0mdynamic\u001b[0m\u001b[0;34m=\u001b[0m\u001b[0;32mFalse\u001b[0m\u001b[0;34m,\u001b[0m \u001b[0;34m**\u001b[0m\u001b[0mkwargs\u001b[0m\u001b[0;34m)\u001b[0m\u001b[0;34m\u001b[0m\u001b[0;34m\u001b[0m\u001b[0m\n",
       "\u001b[0;31mDocstring:\u001b[0m\n",
       "predict(self, start=None, end=None, dynamic=False, **kwargs)\n",
       "\n",
       "In-sample prediction and out-of-sample forecasting\n",
       "\n",
       "Parameters\n",
       "----------\n",
       "start : int, str, or datetime, optional\n",
       "    Zero-indexed observation number at which to start forecasting,\n",
       "    i.e., the first forecast is start. Can also be a date string to\n",
       "    parse or a datetime type. Default is the the zeroth observation.\n",
       "end : int, str, or datetime, optional\n",
       "    Zero-indexed observation number at which to end forecasting, i.e.,\n",
       "    the last forecast is end. Can also be a date string to\n",
       "    parse or a datetime type. However, if the dates index does not\n",
       "    have a fixed frequency, end must be an integer index if you\n",
       "    want out of sample prediction. Default is the last observation in\n",
       "    the sample.\n",
       "dynamic : bool, int, str, or datetime, optional\n",
       "    Integer offset relative to `start` at which to begin dynamic\n",
       "    prediction. Can also be an absolute date string to parse or a\n",
       "    datetime type (these are not interpreted as offsets).\n",
       "    Prior to this observation, true endogenous values will be used for\n",
       "    prediction; starting with this observation and continuing through\n",
       "    the end of prediction, forecasted endogenous values will be used\n",
       "    instead.\n",
       "**kwargs\n",
       "    Additional arguments may required for forecasting beyond the end\n",
       "    of the sample. See `FilterResults.predict` for more details.\n",
       "\n",
       "Returns\n",
       "-------\n",
       "forecast : array_like\n",
       "    Array of out of in-sample predictions and / or out-of-sample\n",
       "    forecasts. An (npredict x k_endog) array.\n",
       "\n",
       "See Also\n",
       "--------\n",
       "forecast\n",
       "    Out-of-sample forecasts\n",
       "get_prediction\n",
       "    Prediction results and confidence intervals\n",
       "\u001b[0;31mFile:\u001b[0m      ~/anaconda3/envs/web/lib/python3.9/site-packages/statsmodels/tsa/statespace/mlemodel.py\n",
       "\u001b[0;31mType:\u001b[0m      method\n"
      ]
     },
     "metadata": {},
     "output_type": "display_data"
    }
   ],
   "source": [
    "model.predict?"
   ]
  },
  {
   "cell_type": "code",
   "execution_count": 139,
   "id": "473df6f6-91d7-4b3a-a64a-d06d668ac5e9",
   "metadata": {},
   "outputs": [
    {
     "data": {
      "text/html": [
       "<div>\n",
       "<style scoped>\n",
       "    .dataframe tbody tr th:only-of-type {\n",
       "        vertical-align: middle;\n",
       "    }\n",
       "\n",
       "    .dataframe tbody tr th {\n",
       "        vertical-align: top;\n",
       "    }\n",
       "\n",
       "    .dataframe thead th {\n",
       "        text-align: right;\n",
       "    }\n",
       "</style>\n",
       "<table border=\"1\" class=\"dataframe\">\n",
       "  <thead>\n",
       "    <tr style=\"text-align: right;\">\n",
       "      <th></th>\n",
       "      <th>销量</th>\n",
       "    </tr>\n",
       "    <tr>\n",
       "      <th>日期</th>\n",
       "      <th></th>\n",
       "    </tr>\n",
       "  </thead>\n",
       "  <tbody>\n",
       "    <tr>\n",
       "      <th>2015-02-02</th>\n",
       "      <td>4493.0</td>\n",
       "    </tr>\n",
       "    <tr>\n",
       "      <th>2015-02-03</th>\n",
       "      <td>4560.0</td>\n",
       "    </tr>\n",
       "    <tr>\n",
       "      <th>2015-02-04</th>\n",
       "      <td>4637.0</td>\n",
       "    </tr>\n",
       "    <tr>\n",
       "      <th>2015-02-05</th>\n",
       "      <td>4755.0</td>\n",
       "    </tr>\n",
       "    <tr>\n",
       "      <th>2015-02-06</th>\n",
       "      <td>4817.0</td>\n",
       "    </tr>\n",
       "  </tbody>\n",
       "</table>\n",
       "</div>"
      ],
      "text/plain": [
       "                销量\n",
       "日期                \n",
       "2015-02-02  4493.0\n",
       "2015-02-03  4560.0\n",
       "2015-02-04  4637.0\n",
       "2015-02-05  4755.0\n",
       "2015-02-06  4817.0"
      ]
     },
     "execution_count": 139,
     "metadata": {},
     "output_type": "execute_result"
    }
   ],
   "source": [
    "data.tail()"
   ]
  },
  {
   "cell_type": "code",
   "execution_count": 138,
   "id": "0d5e3d3e-7d19-4ce4-bcee-74d76fdcf42f",
   "metadata": {},
   "outputs": [
    {
     "name": "stdout",
     "output_type": "stream",
     "text": [
      "2015-02-07    4856.351924\n",
      "2015-02-08    4881.328922\n",
      "2015-02-09    4897.182034\n",
      "2015-02-10    4907.244139\n",
      "2015-02-11    4913.630641\n",
      "2015-02-12    4917.684208\n",
      "2015-02-13    4920.257041\n",
      "2015-02-14    4921.890040\n",
      "2015-02-15    4922.926519\n",
      "2015-02-16    4923.584380\n",
      "2015-02-17    4924.001931\n",
      "2015-02-18    4924.266953\n",
      "2015-02-19    4924.435165\n",
      "2015-02-20    4924.541931\n",
      "Freq: D, Name: predicted_mean, dtype: float64\n"
     ]
    }
   ],
   "source": [
    "print(model.predict(start=37,end=50))"
   ]
  },
  {
   "cell_type": "code",
   "execution_count": 150,
   "id": "fc7b033b-9356-4f5c-9adc-044aedc39142",
   "metadata": {},
   "outputs": [],
   "source": [
    "res= model.predict(start=37,end=50)"
   ]
  },
  {
   "cell_type": "code",
   "execution_count": 148,
   "id": "21b0a21e-8235-462c-b9db-34326f413dba",
   "metadata": {},
   "outputs": [],
   "source": [
    "res = pd.c"
   ]
  },
  {
   "cell_type": "code",
   "execution_count": 155,
   "id": "77e88e6e-e9f7-41a9-97e9-93f87d7c3004",
   "metadata": {},
   "outputs": [],
   "source": [
    "res = pd.concat([data['销量'],res])"
   ]
  },
  {
   "cell_type": "code",
   "execution_count": 157,
   "id": "98ea8649-6b09-4a97-806f-edc9ef0d2831",
   "metadata": {},
   "outputs": [
    {
     "data": {
      "image/png": "[encoded data removed]",
      "text/plain": [
       "<Figure size 1440x720 with 1 Axes>"
      ]
     },
     "metadata": {
      "needs_background": "light"
     },
     "output_type": "display_data"
    }
   ],
   "source": [
    "res.plot()\n",
    "data['销量'].plot(color='r')\n",
    "plt.show()"
   ]
  },
  {
   "cell_type": "code",
   "execution_count": 160,
   "id": "1445ebdb-c7dc-4443-9390-72462c44c6b5",
   "metadata": {},
   "outputs": [],
   "source": [
    "fn='tutorial/chapter5/demo/data/consumption_data.xls'\n",
    "data=pd.read_excel(fn,index_col='Id')"
   ]
  },
  {
   "cell_type": "code",
   "execution_count": 161,
   "id": "3754aaa8-4fe5-4b5d-9c39-80cf49c3f85d",
   "metadata": {},
   "outputs": [
    {
     "data": {
      "text/html": [
       "<div>\n",
       "<style scoped>\n",
       "    .dataframe tbody tr th:only-of-type {\n",
       "        vertical-align: middle;\n",
       "    }\n",
       "\n",
       "    .dataframe tbody tr th {\n",
       "        vertical-align: top;\n",
       "    }\n",
       "\n",
       "    .dataframe thead th {\n",
       "        text-align: right;\n",
       "    }\n",
       "</style>\n",
       "<table border=\"1\" class=\"dataframe\">\n",
       "  <thead>\n",
       "    <tr style=\"text-align: right;\">\n",
       "      <th></th>\n",
       "      <th>R</th>\n",
       "      <th>F</th>\n",
       "      <th>M</th>\n",
       "    </tr>\n",
       "    <tr>\n",
       "      <th>Id</th>\n",
       "      <th></th>\n",
       "      <th></th>\n",
       "      <th></th>\n",
       "    </tr>\n",
       "  </thead>\n",
       "  <tbody>\n",
       "    <tr>\n",
       "      <th>1</th>\n",
       "      <td>27</td>\n",
       "      <td>6</td>\n",
       "      <td>232.61</td>\n",
       "    </tr>\n",
       "    <tr>\n",
       "      <th>2</th>\n",
       "      <td>3</td>\n",
       "      <td>5</td>\n",
       "      <td>1507.11</td>\n",
       "    </tr>\n",
       "    <tr>\n",
       "      <th>3</th>\n",
       "      <td>4</td>\n",
       "      <td>16</td>\n",
       "      <td>817.62</td>\n",
       "    </tr>\n",
       "    <tr>\n",
       "      <th>4</th>\n",
       "      <td>3</td>\n",
       "      <td>11</td>\n",
       "      <td>232.81</td>\n",
       "    </tr>\n",
       "    <tr>\n",
       "      <th>5</th>\n",
       "      <td>14</td>\n",
       "      <td>7</td>\n",
       "      <td>1913.05</td>\n",
       "    </tr>\n",
       "  </tbody>\n",
       "</table>\n",
       "</div>"
      ],
      "text/plain": [
       "     R   F        M\n",
       "Id                 \n",
       "1   27   6   232.61\n",
       "2    3   5  1507.11\n",
       "3    4  16   817.62\n",
       "4    3  11   232.81\n",
       "5   14   7  1913.05"
      ]
     },
     "execution_count": 161,
     "metadata": {},
     "output_type": "execute_result"
    }
   ],
   "source": [
    "data.head()"
   ]
  },
  {
   "cell_type": "code",
   "execution_count": 162,
   "id": "83ea3593-61bf-4108-87e4-949cf8c542ee",
   "metadata": {},
   "outputs": [],
   "source": [
    "k=3\n",
    "iteration=500"
   ]
  },
  {
   "cell_type": "code",
   "execution_count": 163,
   "id": "3a85d598-0c2f-4e1b-ae57-bbdc4c976aff",
   "metadata": {},
   "outputs": [],
   "source": [
    "data_zs = (data-data.mean())/data.std()"
   ]
  },
  {
   "cell_type": "code",
   "execution_count": 164,
   "id": "4add6416-c68e-48f8-9af3-d0802b653728",
   "metadata": {},
   "outputs": [],
   "source": [
    "model = KMeans(n_clusters=k,max_iter=iteration)"
   ]
  },
  {
   "cell_type": "code",
   "execution_count": 165,
   "id": "f685b88f-9433-4f82-962b-f1f201613c6d",
   "metadata": {},
   "outputs": [
    {
     "data": {
      "text/plain": [
       "KMeans(max_iter=500, n_clusters=3)"
      ]
     },
     "execution_count": 165,
     "metadata": {},
     "output_type": "execute_result"
    }
   ],
   "source": [
    "model.fit(data_zs)"
   ]
  },
  {
   "cell_type": "code",
   "execution_count": 166,
   "id": "c3722601-25dd-4fab-8a2a-ce61e2dbfd1b",
   "metadata": {},
   "outputs": [],
   "source": [
    "r = pd.concat((data_zs,pd.Series(model.labels_,index=data.index)),axis=1)"
   ]
  },
  {
   "cell_type": "code",
   "execution_count": 167,
   "id": "46777a22-64fa-4bf2-a4ad-37a7b0256fc5",
   "metadata": {},
   "outputs": [],
   "source": [
    "r.columns = list(data.columns) + ['聚类类别']"
   ]
  },
  {
   "cell_type": "code",
   "execution_count": 168,
   "id": "39387deb-5734-4a6b-9f09-7f73d13af89a",
   "metadata": {},
   "outputs": [
    {
     "data": {
      "text/html": [
       "<div>\n",
       "<style scoped>\n",
       "    .dataframe tbody tr th:only-of-type {\n",
       "        vertical-align: middle;\n",
       "    }\n",
       "\n",
       "    .dataframe tbody tr th {\n",
       "        vertical-align: top;\n",
       "    }\n",
       "\n",
       "    .dataframe thead th {\n",
       "        text-align: right;\n",
       "    }\n",
       "</style>\n",
       "<table border=\"1\" class=\"dataframe\">\n",
       "  <thead>\n",
       "    <tr style=\"text-align: right;\">\n",
       "      <th></th>\n",
       "      <th>R</th>\n",
       "      <th>F</th>\n",
       "      <th>M</th>\n",
       "      <th>聚类类别</th>\n",
       "    </tr>\n",
       "    <tr>\n",
       "      <th>Id</th>\n",
       "      <th></th>\n",
       "      <th></th>\n",
       "      <th></th>\n",
       "      <th></th>\n",
       "    </tr>\n",
       "  </thead>\n",
       "  <tbody>\n",
       "    <tr>\n",
       "      <th>1</th>\n",
       "      <td>0.764186</td>\n",
       "      <td>-0.493579</td>\n",
       "      <td>-1.158711</td>\n",
       "      <td>0</td>\n",
       "    </tr>\n",
       "    <tr>\n",
       "      <th>2</th>\n",
       "      <td>-1.024757</td>\n",
       "      <td>-0.630079</td>\n",
       "      <td>0.622527</td>\n",
       "      <td>0</td>\n",
       "    </tr>\n",
       "    <tr>\n",
       "      <th>3</th>\n",
       "      <td>-0.950217</td>\n",
       "      <td>0.871423</td>\n",
       "      <td>-0.341103</td>\n",
       "      <td>1</td>\n",
       "    </tr>\n",
       "    <tr>\n",
       "      <th>4</th>\n",
       "      <td>-1.024757</td>\n",
       "      <td>0.188922</td>\n",
       "      <td>-1.158432</td>\n",
       "      <td>0</td>\n",
       "    </tr>\n",
       "    <tr>\n",
       "      <th>5</th>\n",
       "      <td>-0.204824</td>\n",
       "      <td>-0.357079</td>\n",
       "      <td>1.189868</td>\n",
       "      <td>0</td>\n",
       "    </tr>\n",
       "  </tbody>\n",
       "</table>\n",
       "</div>"
      ],
      "text/plain": [
       "           R         F         M  聚类类别\n",
       "Id                                    \n",
       "1   0.764186 -0.493579 -1.158711     0\n",
       "2  -1.024757 -0.630079  0.622527     0\n",
       "3  -0.950217  0.871423 -0.341103     1\n",
       "4  -1.024757  0.188922 -1.158432     0\n",
       "5  -0.204824 -0.357079  1.189868     0"
      ]
     },
     "execution_count": 168,
     "metadata": {},
     "output_type": "execute_result"
    }
   ],
   "source": [
    "r.head()"
   ]
  },
  {
   "cell_type": "code",
   "execution_count": 171,
   "id": "41e0d3b8-b308-4645-b7c9-61d2b664a6d3",
   "metadata": {},
   "outputs": [
    {
     "data": {
      "text/plain": [
       "array([0, 1, 2], dtype=int32)"
      ]
     },
     "execution_count": 171,
     "metadata": {},
     "output_type": "execute_result"
    }
   ],
   "source": [
    "r['聚类类别'].unique()"
   ]
  },
  {
   "cell_type": "code",
   "execution_count": 174,
   "id": "b9ce3833-3435-48d6-b858-55f99135fdf0",
   "metadata": {},
   "outputs": [],
   "source": [
    "norm = []\n",
    "for i in range(k):\n",
    "    norm_tmp = r[['R','F','M']][r[\"聚类类别\"]==i] - model.cluster_centers_[i]\n",
    "    norm_tmp = norm_tmp.apply(np.linalg.norm,axis=1)\n",
    "    norm.append(norm_tmp / norm_tmp.median())\n",
    "norm = pd.concat(norm)"
   ]
  },
  {
   "cell_type": "code",
   "execution_count": 182,
   "id": "f1952053-cc60-47e7-add3-11c9a4895003",
   "metadata": {},
   "outputs": [
    {
     "data": {
      "image/png": "[encoded data removed]",
      "text/plain": [
       "<Figure size 1152x864 with 1 Axes>"
      ]
     },
     "metadata": {
      "needs_background": "light"
     },
     "output_type": "display_data"
    }
   ],
   "source": [
    "plt.figure(figsize=(16,12))\n",
    "threshold=2\n",
    "norm[norm <= threshold].plot(style='go')\n",
    "dis_points = norm[norm > threshold]\n",
    "dis_points.plot(style='r*')\n",
    "for i in range(len(dis_points)):\n",
    "    idx = dis_points.index[i]\n",
    "    n = dis_points.iloc[i]\n",
    "    plt.annotate('(%s, %.2f)'%(idx,n),xy=(idx,n),xytext=(idx,n))\n",
    "plt.show()"
   ]
  },
  {
   "cell_type": "code",
   "execution_count": 184,
   "id": "15e819e0-e4de-4527-b2f7-4e541c3d05c6",
   "metadata": {},
   "outputs": [
    {
     "data": {
      "text/plain": [
       "pandas.core.series.Series"
      ]
     },
     "execution_count": 184,
     "metadata": {},
     "output_type": "execute_result"
    }
   ],
   "source": [
    "type(dis_points)"
   ]
  }
 ],
 "metadata": {
  "kernelspec": {
   "display_name": "Python 3",
   "language": "python",
   "name": "python3"
  },
  "language_info": {
   "codemirror_mode": {
    "name": "ipython",
    "version": 3
   },
   "file_extension": ".py",
   "mimetype": "text/x-python",
   "name": "python",
   "nbconvert_exporter": "python",
   "pygments_lexer": "ipython3",
   "version": "3.9.2"
  }
 },
 "nbformat": 4,
 "nbformat_minor": 5
}
