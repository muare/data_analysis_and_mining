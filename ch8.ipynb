{
 "cells": [
  {
   "cell_type": "code",
   "execution_count": 110,
   "id": "e1c9fdfe-3f59-476c-8672-96ecd825ffa7",
   "metadata": {},
   "outputs": [],
   "source": [
    "import pandas as pd\n",
    "import numpy as np\n",
    "import matplotlib.pyplot as plt\n",
    "from tutorial.chapter8.demo.code.apriori import *"
   ]
  },
  {
   "cell_type": "code",
   "execution_count": 2,
   "id": "555cfe29-9c45-4a4e-9c8f-56b4350a6251",
   "metadata": {},
   "outputs": [],
   "source": [
    "plt.rcParams['font.family']=['Heiti TC']\n",
    "plt.rcParams['figure.figsize']=(20,10)"
   ]
  },
  {
   "cell_type": "code",
   "execution_count": 6,
   "id": "83ed7bc6-a2a9-419e-9a76-202d5fe0da9d",
   "metadata": {},
   "outputs": [],
   "source": [
    "fn='tutorial/chapter8/demo/data/GoodsOrder.csv'\n",
    "data=pd.read_csv(fn,encoding='gbk')"
   ]
  },
  {
   "cell_type": "code",
   "execution_count": 7,
   "id": "f9364dc4-f1eb-49d1-8d9f-bda1334f1f9f",
   "metadata": {},
   "outputs": [
    {
     "data": {
      "text/html": [
       "<div>\n",
       "<style scoped>\n",
       "    .dataframe tbody tr th:only-of-type {\n",
       "        vertical-align: middle;\n",
       "    }\n",
       "\n",
       "    .dataframe tbody tr th {\n",
       "        vertical-align: top;\n",
       "    }\n",
       "\n",
       "    .dataframe thead th {\n",
       "        text-align: right;\n",
       "    }\n",
       "</style>\n",
       "<table border=\"1\" class=\"dataframe\">\n",
       "  <thead>\n",
       "    <tr style=\"text-align: right;\">\n",
       "      <th></th>\n",
       "      <th>id</th>\n",
       "      <th>Goods</th>\n",
       "    </tr>\n",
       "  </thead>\n",
       "  <tbody>\n",
       "    <tr>\n",
       "      <th>0</th>\n",
       "      <td>1</td>\n",
       "      <td>柑橘类水果</td>\n",
       "    </tr>\n",
       "    <tr>\n",
       "      <th>1</th>\n",
       "      <td>1</td>\n",
       "      <td>人造黄油</td>\n",
       "    </tr>\n",
       "    <tr>\n",
       "      <th>2</th>\n",
       "      <td>1</td>\n",
       "      <td>即食汤</td>\n",
       "    </tr>\n",
       "    <tr>\n",
       "      <th>3</th>\n",
       "      <td>1</td>\n",
       "      <td>半成品面包</td>\n",
       "    </tr>\n",
       "    <tr>\n",
       "      <th>4</th>\n",
       "      <td>2</td>\n",
       "      <td>咖啡</td>\n",
       "    </tr>\n",
       "  </tbody>\n",
       "</table>\n",
       "</div>"
      ],
      "text/plain": [
       "   id  Goods\n",
       "0   1  柑橘类水果\n",
       "1   1   人造黄油\n",
       "2   1    即食汤\n",
       "3   1  半成品面包\n",
       "4   2     咖啡"
      ]
     },
     "execution_count": 7,
     "metadata": {},
     "output_type": "execute_result"
    }
   ],
   "source": [
    "data.head()"
   ]
  },
  {
   "cell_type": "code",
   "execution_count": 8,
   "id": "2a640d9b-e60e-4afb-bc36-099f43b2509c",
   "metadata": {},
   "outputs": [
    {
     "name": "stdout",
     "output_type": "stream",
     "text": [
      "<class 'pandas.core.frame.DataFrame'>\n",
      "RangeIndex: 43367 entries, 0 to 43366\n",
      "Data columns (total 2 columns):\n",
      " #   Column  Non-Null Count  Dtype \n",
      "---  ------  --------------  ----- \n",
      " 0   id      43367 non-null  int64 \n",
      " 1   Goods   43367 non-null  object\n",
      "dtypes: int64(1), object(1)\n",
      "memory usage: 677.7+ KB\n"
     ]
    }
   ],
   "source": [
    "data.info()"
   ]
  },
  {
   "cell_type": "code",
   "execution_count": 9,
   "id": "a1f8354a-ff15-4ab1-99f8-01208f3a0f2d",
   "metadata": {},
   "outputs": [],
   "source": [
    "data=data['id']"
   ]
  },
  {
   "cell_type": "code",
   "execution_count": 10,
   "id": "b04f863a-a86b-480a-a11c-5be844eddb41",
   "metadata": {},
   "outputs": [
    {
     "data": {
      "text/plain": [
       "count    43367.000000\n",
       "mean      4908.589504\n",
       "std       2843.118248\n",
       "min          1.000000\n",
       "25%       2455.500000\n",
       "50%       4828.000000\n",
       "75%       7380.500000\n",
       "max       9835.000000\n",
       "Name: id, dtype: float64"
      ]
     },
     "execution_count": 10,
     "metadata": {},
     "output_type": "execute_result"
    }
   ],
   "source": [
    "data.describe()"
   ]
  },
  {
   "cell_type": "code",
   "execution_count": 12,
   "id": "f3cf93d8-83e9-4695-929a-4413a3a354c4",
   "metadata": {},
   "outputs": [],
   "source": [
    "description = [data.count(),data.min(),data.max()]"
   ]
  },
  {
   "cell_type": "code",
   "execution_count": 13,
   "id": "5d73a91e-33d7-4a33-982c-08c94cc9be65",
   "metadata": {},
   "outputs": [],
   "source": [
    "description = pd.DataFrame(description,index=['Count','Min','Max']).T"
   ]
  },
  {
   "cell_type": "code",
   "execution_count": 14,
   "id": "9cad8d3c-7e6f-4bb7-8338-828535a71365",
   "metadata": {},
   "outputs": [
    {
     "data": {
      "text/html": [
       "<div>\n",
       "<style scoped>\n",
       "    .dataframe tbody tr th:only-of-type {\n",
       "        vertical-align: middle;\n",
       "    }\n",
       "\n",
       "    .dataframe tbody tr th {\n",
       "        vertical-align: top;\n",
       "    }\n",
       "\n",
       "    .dataframe thead th {\n",
       "        text-align: right;\n",
       "    }\n",
       "</style>\n",
       "<table border=\"1\" class=\"dataframe\">\n",
       "  <thead>\n",
       "    <tr style=\"text-align: right;\">\n",
       "      <th></th>\n",
       "      <th>Count</th>\n",
       "      <th>Min</th>\n",
       "      <th>Max</th>\n",
       "    </tr>\n",
       "  </thead>\n",
       "  <tbody>\n",
       "    <tr>\n",
       "      <th>0</th>\n",
       "      <td>43367</td>\n",
       "      <td>1</td>\n",
       "      <td>9835</td>\n",
       "    </tr>\n",
       "  </tbody>\n",
       "</table>\n",
       "</div>"
      ],
      "text/plain": [
       "   Count  Min   Max\n",
       "0  43367    1  9835"
      ]
     },
     "execution_count": 14,
     "metadata": {},
     "output_type": "execute_result"
    }
   ],
   "source": [
    "description"
   ]
  },
  {
   "cell_type": "code",
   "execution_count": 15,
   "id": "e2d4a70a-3f43-48de-9092-d40d1e995004",
   "metadata": {},
   "outputs": [],
   "source": [
    "data=pd.read_csv(fn,encoding='gbk')"
   ]
  },
  {
   "cell_type": "code",
   "execution_count": 18,
   "id": "1ac01eb7-f0bf-4346-a9ac-c9d70b91cd6e",
   "metadata": {},
   "outputs": [],
   "source": [
    "group = data.groupby(['Goods']).count().reset_index()"
   ]
  },
  {
   "cell_type": "code",
   "execution_count": 22,
   "id": "655676bc-8d7f-4a5b-bdb7-068d8ae16815",
   "metadata": {},
   "outputs": [],
   "source": [
    "sorted_goods = group.sort_values('id',ascending=False) "
   ]
  },
  {
   "cell_type": "code",
   "execution_count": 23,
   "id": "90fdca64-88c8-430b-a13b-8d1a582d3dcb",
   "metadata": {},
   "outputs": [
    {
     "data": {
      "text/html": [
       "<div>\n",
       "<style scoped>\n",
       "    .dataframe tbody tr th:only-of-type {\n",
       "        vertical-align: middle;\n",
       "    }\n",
       "\n",
       "    .dataframe tbody tr th {\n",
       "        vertical-align: top;\n",
       "    }\n",
       "\n",
       "    .dataframe thead th {\n",
       "        text-align: right;\n",
       "    }\n",
       "</style>\n",
       "<table border=\"1\" class=\"dataframe\">\n",
       "  <thead>\n",
       "    <tr style=\"text-align: right;\">\n",
       "      <th></th>\n",
       "      <th>Goods</th>\n",
       "      <th>id</th>\n",
       "    </tr>\n",
       "  </thead>\n",
       "  <tbody>\n",
       "    <tr>\n",
       "      <th>7</th>\n",
       "      <td>全脂牛奶</td>\n",
       "      <td>2513</td>\n",
       "    </tr>\n",
       "    <tr>\n",
       "      <th>8</th>\n",
       "      <td>其他蔬菜</td>\n",
       "      <td>1903</td>\n",
       "    </tr>\n",
       "    <tr>\n",
       "      <th>155</th>\n",
       "      <td>面包卷</td>\n",
       "      <td>1809</td>\n",
       "    </tr>\n",
       "    <tr>\n",
       "      <th>134</th>\n",
       "      <td>苏打</td>\n",
       "      <td>1715</td>\n",
       "    </tr>\n",
       "    <tr>\n",
       "      <th>150</th>\n",
       "      <td>酸奶</td>\n",
       "      <td>1372</td>\n",
       "    </tr>\n",
       "    <tr>\n",
       "      <th>...</th>\n",
       "      <td>...</td>\n",
       "      <td>...</td>\n",
       "    </tr>\n",
       "    <tr>\n",
       "      <th>33</th>\n",
       "      <td>厨房用具</td>\n",
       "      <td>4</td>\n",
       "    </tr>\n",
       "    <tr>\n",
       "      <th>23</th>\n",
       "      <td>包装袋</td>\n",
       "      <td>4</td>\n",
       "    </tr>\n",
       "    <tr>\n",
       "      <th>154</th>\n",
       "      <td>防腐用品</td>\n",
       "      <td>2</td>\n",
       "    </tr>\n",
       "    <tr>\n",
       "      <th>49</th>\n",
       "      <td>婴儿食品</td>\n",
       "      <td>1</td>\n",
       "    </tr>\n",
       "    <tr>\n",
       "      <th>40</th>\n",
       "      <td>唱片</td>\n",
       "      <td>1</td>\n",
       "    </tr>\n",
       "  </tbody>\n",
       "</table>\n",
       "<p>169 rows × 2 columns</p>\n",
       "</div>"
      ],
      "text/plain": [
       "    Goods    id\n",
       "7    全脂牛奶  2513\n",
       "8    其他蔬菜  1903\n",
       "155   面包卷  1809\n",
       "134    苏打  1715\n",
       "150    酸奶  1372\n",
       "..    ...   ...\n",
       "33   厨房用具     4\n",
       "23    包装袋     4\n",
       "154  防腐用品     2\n",
       "49   婴儿食品     1\n",
       "40     唱片     1\n",
       "\n",
       "[169 rows x 2 columns]"
      ]
     },
     "execution_count": 23,
     "metadata": {},
     "output_type": "execute_result"
    }
   ],
   "source": [
    "sorted_goods"
   ]
  },
  {
   "cell_type": "code",
   "execution_count": 25,
   "id": "52059b6f-5f31-4440-9727-0222aa654952",
   "metadata": {},
   "outputs": [
    {
     "name": "stdout",
     "output_type": "stream",
     "text": [
      "     Goods    id\n",
      "7     全脂牛奶  2513\n",
      "8     其他蔬菜  1903\n",
      "155    面包卷  1809\n",
      "134     苏打  1715\n",
      "150     酸奶  1372\n",
      "99     瓶装水  1087\n",
      "70   根茎类蔬菜  1072\n",
      "85    热带水果  1032\n",
      "143    购物袋   969\n",
      "160     香肠   924\n"
     ]
    }
   ],
   "source": [
    "print(sorted_goods[:10])"
   ]
  },
  {
   "cell_type": "code",
   "execution_count": 27,
   "id": "8dec4d9b-1e50-4f05-88fb-345b6d2e0b94",
   "metadata": {},
   "outputs": [],
   "source": [
    "x=sorted_goods[:10]['Goods']\n",
    "y=sorted_goods[:10]['id']"
   ]
  },
  {
   "cell_type": "code",
   "execution_count": 36,
   "id": "7d6622fc-69e6-41d7-8290-f661df949c4e",
   "metadata": {},
   "outputs": [
    {
     "data": {
      "image/png": "[encoded data removed]",
      "text/plain": [
       "<Figure size 1440x720 with 1 Axes>"
      ]
     },
     "metadata": {
      "needs_background": "light"
     },
     "output_type": "display_data"
    }
   ],
   "source": [
    "plt.barh(x,y,color='b',alpha=0.6)\n",
    "plt.xlabel('Sales')\n",
    "plt.ylabel('Goods Top10')\n",
    "plt.show()"
   ]
  },
  {
   "cell_type": "code",
   "execution_count": 37,
   "id": "7c42d593-31a2-4540-b2e1-574708b526e1",
   "metadata": {},
   "outputs": [],
   "source": [
    "order_fn = 'tutorial/chapter8/demo/data/GoodsOrder.csv'\n",
    "data = pd.read_csv(order_fn,encoding='gbk')"
   ]
  },
  {
   "cell_type": "code",
   "execution_count": 41,
   "id": "92beee6b-a03b-4f12-829a-b3e849b2e41c",
   "metadata": {},
   "outputs": [],
   "source": [
    "type_fn = 'tutorial/chapter8/demo/data/GoodsTypes.csv'\n",
    "goods_types = pd.read_csv(type_fn,encoding='gbk')"
   ]
  },
  {
   "cell_type": "code",
   "execution_count": 42,
   "id": "2bc3726b-a75a-4330-bfee-b47642977596",
   "metadata": {},
   "outputs": [
    {
     "data": {
      "text/html": [
       "<div>\n",
       "<style scoped>\n",
       "    .dataframe tbody tr th:only-of-type {\n",
       "        vertical-align: middle;\n",
       "    }\n",
       "\n",
       "    .dataframe tbody tr th {\n",
       "        vertical-align: top;\n",
       "    }\n",
       "\n",
       "    .dataframe thead th {\n",
       "        text-align: right;\n",
       "    }\n",
       "</style>\n",
       "<table border=\"1\" class=\"dataframe\">\n",
       "  <thead>\n",
       "    <tr style=\"text-align: right;\">\n",
       "      <th></th>\n",
       "      <th>Goods</th>\n",
       "      <th>Types</th>\n",
       "    </tr>\n",
       "  </thead>\n",
       "  <tbody>\n",
       "    <tr>\n",
       "      <th>0</th>\n",
       "      <td>白饭</td>\n",
       "      <td>熟食</td>\n",
       "    </tr>\n",
       "    <tr>\n",
       "      <th>1</th>\n",
       "      <td>白酒</td>\n",
       "      <td>酒精饮料</td>\n",
       "    </tr>\n",
       "    <tr>\n",
       "      <th>2</th>\n",
       "      <td>白兰地</td>\n",
       "      <td>酒精饮料</td>\n",
       "    </tr>\n",
       "    <tr>\n",
       "      <th>3</th>\n",
       "      <td>白面包</td>\n",
       "      <td>西点</td>\n",
       "    </tr>\n",
       "    <tr>\n",
       "      <th>4</th>\n",
       "      <td>半成品面包</td>\n",
       "      <td>西点</td>\n",
       "    </tr>\n",
       "  </tbody>\n",
       "</table>\n",
       "</div>"
      ],
      "text/plain": [
       "   Goods Types\n",
       "0     白饭    熟食\n",
       "1     白酒  酒精饮料\n",
       "2    白兰地  酒精饮料\n",
       "3    白面包    西点\n",
       "4  半成品面包    西点"
      ]
     },
     "execution_count": 42,
     "metadata": {},
     "output_type": "execute_result"
    }
   ],
   "source": [
    "goods_types.head()"
   ]
  },
  {
   "cell_type": "code",
   "execution_count": 43,
   "id": "4e6ed722-e7a9-4f80-bc1e-a6e7475591f7",
   "metadata": {},
   "outputs": [],
   "source": [
    "group = data.groupby(['Goods']).count().reset_index()"
   ]
  },
  {
   "cell_type": "code",
   "execution_count": 46,
   "id": "04a272e2-6050-4563-acaa-4b3688c5a850",
   "metadata": {},
   "outputs": [],
   "source": [
    "sorted_goods = group.sort_values('id',ascending=False).reset_index()"
   ]
  },
  {
   "cell_type": "code",
   "execution_count": 47,
   "id": "612d8e40-9c77-40d6-8c7e-d5c867e5830e",
   "metadata": {},
   "outputs": [
    {
     "data": {
      "text/html": [
       "<div>\n",
       "<style scoped>\n",
       "    .dataframe tbody tr th:only-of-type {\n",
       "        vertical-align: middle;\n",
       "    }\n",
       "\n",
       "    .dataframe tbody tr th {\n",
       "        vertical-align: top;\n",
       "    }\n",
       "\n",
       "    .dataframe thead th {\n",
       "        text-align: right;\n",
       "    }\n",
       "</style>\n",
       "<table border=\"1\" class=\"dataframe\">\n",
       "  <thead>\n",
       "    <tr style=\"text-align: right;\">\n",
       "      <th></th>\n",
       "      <th>index</th>\n",
       "      <th>Goods</th>\n",
       "      <th>id</th>\n",
       "    </tr>\n",
       "  </thead>\n",
       "  <tbody>\n",
       "    <tr>\n",
       "      <th>0</th>\n",
       "      <td>7</td>\n",
       "      <td>全脂牛奶</td>\n",
       "      <td>2513</td>\n",
       "    </tr>\n",
       "    <tr>\n",
       "      <th>1</th>\n",
       "      <td>8</td>\n",
       "      <td>其他蔬菜</td>\n",
       "      <td>1903</td>\n",
       "    </tr>\n",
       "    <tr>\n",
       "      <th>2</th>\n",
       "      <td>155</td>\n",
       "      <td>面包卷</td>\n",
       "      <td>1809</td>\n",
       "    </tr>\n",
       "    <tr>\n",
       "      <th>3</th>\n",
       "      <td>134</td>\n",
       "      <td>苏打</td>\n",
       "      <td>1715</td>\n",
       "    </tr>\n",
       "    <tr>\n",
       "      <th>4</th>\n",
       "      <td>150</td>\n",
       "      <td>酸奶</td>\n",
       "      <td>1372</td>\n",
       "    </tr>\n",
       "    <tr>\n",
       "      <th>...</th>\n",
       "      <td>...</td>\n",
       "      <td>...</td>\n",
       "      <td>...</td>\n",
       "    </tr>\n",
       "    <tr>\n",
       "      <th>164</th>\n",
       "      <td>33</td>\n",
       "      <td>厨房用具</td>\n",
       "      <td>4</td>\n",
       "    </tr>\n",
       "    <tr>\n",
       "      <th>165</th>\n",
       "      <td>23</td>\n",
       "      <td>包装袋</td>\n",
       "      <td>4</td>\n",
       "    </tr>\n",
       "    <tr>\n",
       "      <th>166</th>\n",
       "      <td>154</td>\n",
       "      <td>防腐用品</td>\n",
       "      <td>2</td>\n",
       "    </tr>\n",
       "    <tr>\n",
       "      <th>167</th>\n",
       "      <td>49</td>\n",
       "      <td>婴儿食品</td>\n",
       "      <td>1</td>\n",
       "    </tr>\n",
       "    <tr>\n",
       "      <th>168</th>\n",
       "      <td>40</td>\n",
       "      <td>唱片</td>\n",
       "      <td>1</td>\n",
       "    </tr>\n",
       "  </tbody>\n",
       "</table>\n",
       "<p>169 rows × 3 columns</p>\n",
       "</div>"
      ],
      "text/plain": [
       "     index Goods    id\n",
       "0        7  全脂牛奶  2513\n",
       "1        8  其他蔬菜  1903\n",
       "2      155   面包卷  1809\n",
       "3      134    苏打  1715\n",
       "4      150    酸奶  1372\n",
       "..     ...   ...   ...\n",
       "164     33  厨房用具     4\n",
       "165     23   包装袋     4\n",
       "166    154  防腐用品     2\n",
       "167     49  婴儿食品     1\n",
       "168     40    唱片     1\n",
       "\n",
       "[169 rows x 3 columns]"
      ]
     },
     "execution_count": 47,
     "metadata": {},
     "output_type": "execute_result"
    }
   ],
   "source": [
    "sorted_goods"
   ]
  },
  {
   "cell_type": "code",
   "execution_count": 48,
   "id": "77a17d3e-c056-4c20-9b1d-0a91f2b9230c",
   "metadata": {},
   "outputs": [],
   "source": [
    "del sorted_goods['index']"
   ]
  },
  {
   "cell_type": "code",
   "execution_count": 49,
   "id": "0d8086c3-2ba9-4b28-b5b2-ef36f22d8d05",
   "metadata": {},
   "outputs": [],
   "source": [
    "sort_links = pd.merge(sorted_goods,goods_types)"
   ]
  },
  {
   "cell_type": "code",
   "execution_count": 50,
   "id": "a36aac67-e660-445d-80e1-bd6ef786d9ca",
   "metadata": {},
   "outputs": [
    {
     "data": {
      "text/html": [
       "<div>\n",
       "<style scoped>\n",
       "    .dataframe tbody tr th:only-of-type {\n",
       "        vertical-align: middle;\n",
       "    }\n",
       "\n",
       "    .dataframe tbody tr th {\n",
       "        vertical-align: top;\n",
       "    }\n",
       "\n",
       "    .dataframe thead th {\n",
       "        text-align: right;\n",
       "    }\n",
       "</style>\n",
       "<table border=\"1\" class=\"dataframe\">\n",
       "  <thead>\n",
       "    <tr style=\"text-align: right;\">\n",
       "      <th></th>\n",
       "      <th>Goods</th>\n",
       "      <th>id</th>\n",
       "      <th>Types</th>\n",
       "    </tr>\n",
       "  </thead>\n",
       "  <tbody>\n",
       "    <tr>\n",
       "      <th>0</th>\n",
       "      <td>全脂牛奶</td>\n",
       "      <td>2513</td>\n",
       "      <td>非酒精饮料</td>\n",
       "    </tr>\n",
       "    <tr>\n",
       "      <th>1</th>\n",
       "      <td>其他蔬菜</td>\n",
       "      <td>1903</td>\n",
       "      <td>果蔬</td>\n",
       "    </tr>\n",
       "    <tr>\n",
       "      <th>2</th>\n",
       "      <td>面包卷</td>\n",
       "      <td>1809</td>\n",
       "      <td>西点</td>\n",
       "    </tr>\n",
       "    <tr>\n",
       "      <th>3</th>\n",
       "      <td>苏打</td>\n",
       "      <td>1715</td>\n",
       "      <td>非酒精饮料</td>\n",
       "    </tr>\n",
       "    <tr>\n",
       "      <th>4</th>\n",
       "      <td>酸奶</td>\n",
       "      <td>1372</td>\n",
       "      <td>食品类</td>\n",
       "    </tr>\n",
       "    <tr>\n",
       "      <th>...</th>\n",
       "      <td>...</td>\n",
       "      <td>...</td>\n",
       "      <td>...</td>\n",
       "    </tr>\n",
       "    <tr>\n",
       "      <th>163</th>\n",
       "      <td>厨房用具</td>\n",
       "      <td>4</td>\n",
       "      <td>百货</td>\n",
       "    </tr>\n",
       "    <tr>\n",
       "      <th>164</th>\n",
       "      <td>包装袋</td>\n",
       "      <td>4</td>\n",
       "      <td>百货</td>\n",
       "    </tr>\n",
       "    <tr>\n",
       "      <th>165</th>\n",
       "      <td>防腐用品</td>\n",
       "      <td>2</td>\n",
       "      <td>百货</td>\n",
       "    </tr>\n",
       "    <tr>\n",
       "      <th>166</th>\n",
       "      <td>婴儿食品</td>\n",
       "      <td>1</td>\n",
       "      <td>百货</td>\n",
       "    </tr>\n",
       "    <tr>\n",
       "      <th>167</th>\n",
       "      <td>唱片</td>\n",
       "      <td>1</td>\n",
       "      <td>百货</td>\n",
       "    </tr>\n",
       "  </tbody>\n",
       "</table>\n",
       "<p>168 rows × 3 columns</p>\n",
       "</div>"
      ],
      "text/plain": [
       "    Goods    id  Types\n",
       "0    全脂牛奶  2513  非酒精饮料\n",
       "1    其他蔬菜  1903     果蔬\n",
       "2     面包卷  1809     西点\n",
       "3      苏打  1715  非酒精饮料\n",
       "4      酸奶  1372    食品类\n",
       "..    ...   ...    ...\n",
       "163  厨房用具     4     百货\n",
       "164   包装袋     4     百货\n",
       "165  防腐用品     2     百货\n",
       "166  婴儿食品     1     百货\n",
       "167    唱片     1     百货\n",
       "\n",
       "[168 rows x 3 columns]"
      ]
     },
     "execution_count": 50,
     "metadata": {},
     "output_type": "execute_result"
    }
   ],
   "source": [
    "sort_links"
   ]
  },
  {
   "cell_type": "code",
   "execution_count": 51,
   "id": "5cac0cc5-4c02-425c-a045-e04f75bcdfb0",
   "metadata": {},
   "outputs": [
    {
     "data": {
      "text/plain": [
       "array(['非酒精饮料', '果蔬', '西点', '食品类', '百货', '肉类', '酒精饮料', '米粮调料', '零食', '熟食'],\n",
       "      dtype=object)"
      ]
     },
     "execution_count": 51,
     "metadata": {},
     "output_type": "execute_result"
    }
   ],
   "source": [
    "sort_links.Types.unique()"
   ]
  },
  {
   "cell_type": "code",
   "execution_count": 54,
   "id": "63c2a244-7566-4783-92c8-2c887b0a9eb5",
   "metadata": {},
   "outputs": [],
   "source": [
    "types_sum=sort_links.groupby(['Types']).sum().reset_index()"
   ]
  },
  {
   "cell_type": "code",
   "execution_count": 55,
   "id": "569a3d47-4297-45c4-adef-a56395729797",
   "metadata": {},
   "outputs": [],
   "source": [
    "res=types_sum.sort_values('id',ascending=False).reset_index()"
   ]
  },
  {
   "cell_type": "code",
   "execution_count": 56,
   "id": "ad38498f-f443-436c-9055-65fa9e206628",
   "metadata": {},
   "outputs": [],
   "source": [
    "del res['index']"
   ]
  },
  {
   "cell_type": "code",
   "execution_count": 58,
   "id": "a5268518-563d-4edb-a817-b5e78630a9cf",
   "metadata": {},
   "outputs": [],
   "source": [
    "total_goods = res['id'].sum()"
   ]
  },
  {
   "cell_type": "code",
   "execution_count": 60,
   "id": "03a97613-f100-463c-9d36-75ce0867fb50",
   "metadata": {},
   "outputs": [],
   "source": [
    "res['percentage']=res.apply(lambda l : l['id'] / total_goods,axis=1)"
   ]
  },
  {
   "cell_type": "code",
   "execution_count": 61,
   "id": "fad97fc5-cccb-4641-b61c-b3003815a5fd",
   "metadata": {},
   "outputs": [
    {
     "data": {
      "text/html": [
       "<div>\n",
       "<style scoped>\n",
       "    .dataframe tbody tr th:only-of-type {\n",
       "        vertical-align: middle;\n",
       "    }\n",
       "\n",
       "    .dataframe tbody tr th {\n",
       "        vertical-align: top;\n",
       "    }\n",
       "\n",
       "    .dataframe thead th {\n",
       "        text-align: right;\n",
       "    }\n",
       "</style>\n",
       "<table border=\"1\" class=\"dataframe\">\n",
       "  <thead>\n",
       "    <tr style=\"text-align: right;\">\n",
       "      <th></th>\n",
       "      <th>Types</th>\n",
       "      <th>id</th>\n",
       "      <th>percentage</th>\n",
       "    </tr>\n",
       "  </thead>\n",
       "  <tbody>\n",
       "    <tr>\n",
       "      <th>0</th>\n",
       "      <td>非酒精饮料</td>\n",
       "      <td>7594</td>\n",
       "      <td>0.175442</td>\n",
       "    </tr>\n",
       "    <tr>\n",
       "      <th>1</th>\n",
       "      <td>西点</td>\n",
       "      <td>7192</td>\n",
       "      <td>0.166155</td>\n",
       "    </tr>\n",
       "    <tr>\n",
       "      <th>2</th>\n",
       "      <td>果蔬</td>\n",
       "      <td>7146</td>\n",
       "      <td>0.165092</td>\n",
       "    </tr>\n",
       "    <tr>\n",
       "      <th>3</th>\n",
       "      <td>米粮调料</td>\n",
       "      <td>5185</td>\n",
       "      <td>0.119787</td>\n",
       "    </tr>\n",
       "    <tr>\n",
       "      <th>4</th>\n",
       "      <td>百货</td>\n",
       "      <td>5141</td>\n",
       "      <td>0.118771</td>\n",
       "    </tr>\n",
       "    <tr>\n",
       "      <th>5</th>\n",
       "      <td>肉类</td>\n",
       "      <td>4870</td>\n",
       "      <td>0.112510</td>\n",
       "    </tr>\n",
       "    <tr>\n",
       "      <th>6</th>\n",
       "      <td>酒精饮料</td>\n",
       "      <td>2287</td>\n",
       "      <td>0.052836</td>\n",
       "    </tr>\n",
       "    <tr>\n",
       "      <th>7</th>\n",
       "      <td>食品类</td>\n",
       "      <td>1870</td>\n",
       "      <td>0.043202</td>\n",
       "    </tr>\n",
       "    <tr>\n",
       "      <th>8</th>\n",
       "      <td>零食</td>\n",
       "      <td>1459</td>\n",
       "      <td>0.033707</td>\n",
       "    </tr>\n",
       "    <tr>\n",
       "      <th>9</th>\n",
       "      <td>熟食</td>\n",
       "      <td>541</td>\n",
       "      <td>0.012499</td>\n",
       "    </tr>\n",
       "  </tbody>\n",
       "</table>\n",
       "</div>"
      ],
      "text/plain": [
       "   Types    id  percentage\n",
       "0  非酒精饮料  7594    0.175442\n",
       "1     西点  7192    0.166155\n",
       "2     果蔬  7146    0.165092\n",
       "3   米粮调料  5185    0.119787\n",
       "4     百货  5141    0.118771\n",
       "5     肉类  4870    0.112510\n",
       "6   酒精饮料  2287    0.052836\n",
       "7    食品类  1870    0.043202\n",
       "8     零食  1459    0.033707\n",
       "9     熟食   541    0.012499"
      ]
     },
     "execution_count": 61,
     "metadata": {},
     "output_type": "execute_result"
    }
   ],
   "source": [
    "res"
   ]
  },
  {
   "cell_type": "code",
   "execution_count": 62,
   "id": "0c2bed0f-58ed-4b74-8627-1221a3d17ea6",
   "metadata": {},
   "outputs": [
    {
     "data": {
      "image/png": "[encoded data removed]",
      "text/plain": [
       "<Figure size 1440x720 with 1 Axes>"
      ]
     },
     "metadata": {},
     "output_type": "display_data"
    }
   ],
   "source": [
    "x = res['percentage']\n",
    "y = res['Types']\n",
    "plt.pie(x,labels=y,autopct='%1.2f%%')\n",
    "plt.title('Percentage of Goods Types')\n",
    "plt.show()"
   ]
  },
  {
   "cell_type": "code",
   "execution_count": 79,
   "id": "81e0a5aa-967b-4ff7-b698-b490f900cf01",
   "metadata": {},
   "outputs": [],
   "source": [
    "selected = sort_links.loc[sort_links['Types']=='非酒精饮料'].copy()"
   ]
  },
  {
   "cell_type": "code",
   "execution_count": 80,
   "id": "bfbb043a-cad9-40fd-8344-0cdb15bd8ca3",
   "metadata": {},
   "outputs": [],
   "source": [
    "total_selected=selected['id'].sum()"
   ]
  },
  {
   "cell_type": "code",
   "execution_count": 81,
   "id": "4d5e71fb-dac8-4de7-ae15-42ded4b1c258",
   "metadata": {},
   "outputs": [],
   "source": [
    "selected['percentage']=selected.apply(lambda l : l['id'] / total_selected,axis=1)"
   ]
  },
  {
   "cell_type": "code",
   "execution_count": 98,
   "id": "2fa79863-4a0a-4e5a-bfc6-4304118717a9",
   "metadata": {},
   "outputs": [
    {
     "data": {
      "image/png": "[encoded data removed]",
      "text/plain": [
       "<Figure size 1440x720 with 1 Axes>"
      ]
     },
     "metadata": {},
     "output_type": "display_data"
    }
   ],
   "source": [
    "x = selected['percentage']\n",
    "y = selected['Goods']\n",
    "plt.pie(x,labels=y,autopct='%1.2f%%',pctdistance=1.1,labeldistance=1.2,normalize=True)\n",
    "plt.title('non alcolho beaverage sales percentage')\n",
    "plt.show()"
   ]
  },
  {
   "cell_type": "code",
   "execution_count": 99,
   "id": "bfcafb50-ff42-4a21-a386-439a4be0069d",
   "metadata": {},
   "outputs": [],
   "source": [
    "order_fn = 'tutorial/chapter8/demo/data/GoodsOrder.csv'\n",
    "data = pd.read_csv(order_fn,encoding='gbk')"
   ]
  },
  {
   "cell_type": "code",
   "execution_count": 100,
   "id": "18747d5a-a6d0-4da8-b29a-2a13694b8497",
   "metadata": {},
   "outputs": [],
   "source": [
    "data.Goods = data.Goods.apply(lambda x: ','+x)"
   ]
  },
  {
   "cell_type": "code",
   "execution_count": 102,
   "id": "7562f299-5bfe-42ae-ba6b-87e711b72821",
   "metadata": {},
   "outputs": [],
   "source": [
    "data = data.groupby('id').sum().reset_index()"
   ]
  },
  {
   "cell_type": "code",
   "execution_count": 103,
   "id": "e8ec2fb4-49d6-4078-9668-48e62b7ce9d1",
   "metadata": {},
   "outputs": [
    {
     "data": {
      "text/html": [
       "<div>\n",
       "<style scoped>\n",
       "    .dataframe tbody tr th:only-of-type {\n",
       "        vertical-align: middle;\n",
       "    }\n",
       "\n",
       "    .dataframe tbody tr th {\n",
       "        vertical-align: top;\n",
       "    }\n",
       "\n",
       "    .dataframe thead th {\n",
       "        text-align: right;\n",
       "    }\n",
       "</style>\n",
       "<table border=\"1\" class=\"dataframe\">\n",
       "  <thead>\n",
       "    <tr style=\"text-align: right;\">\n",
       "      <th></th>\n",
       "      <th>id</th>\n",
       "      <th>Goods</th>\n",
       "    </tr>\n",
       "  </thead>\n",
       "  <tbody>\n",
       "    <tr>\n",
       "      <th>0</th>\n",
       "      <td>1</td>\n",
       "      <td>,柑橘类水果,人造黄油,即食汤,半成品面包</td>\n",
       "    </tr>\n",
       "    <tr>\n",
       "      <th>1</th>\n",
       "      <td>2</td>\n",
       "      <td>,咖啡,热带水果,酸奶</td>\n",
       "    </tr>\n",
       "    <tr>\n",
       "      <th>2</th>\n",
       "      <td>3</td>\n",
       "      <td>,全脂牛奶</td>\n",
       "    </tr>\n",
       "    <tr>\n",
       "      <th>3</th>\n",
       "      <td>4</td>\n",
       "      <td>,奶油乳酪,肉泥,仁果类水果,酸奶</td>\n",
       "    </tr>\n",
       "    <tr>\n",
       "      <th>4</th>\n",
       "      <td>5</td>\n",
       "      <td>,炼乳,长面包,其他蔬菜,全脂牛奶</td>\n",
       "    </tr>\n",
       "    <tr>\n",
       "      <th>...</th>\n",
       "      <td>...</td>\n",
       "      <td>...</td>\n",
       "    </tr>\n",
       "    <tr>\n",
       "      <th>9830</th>\n",
       "      <td>9831</td>\n",
       "      <td>,牛肉,黄油,鸡,巧克力,柑橘类水果,咖啡,面粉,葡萄,汉堡肉,卫生用品,餐巾,粉红葡萄酒,...</td>\n",
       "    </tr>\n",
       "    <tr>\n",
       "      <th>9831</th>\n",
       "      <td>9832</td>\n",
       "      <td>,烹饪巧克力</td>\n",
       "    </tr>\n",
       "    <tr>\n",
       "      <th>9832</th>\n",
       "      <td>9833</td>\n",
       "      <td>,黄油,鸡,柑橘类水果,保鲜膜/袋,本地蛋类,冷冻甜点,其他蔬菜,面包卷,朗姆酒,酸奶</td>\n",
       "    </tr>\n",
       "    <tr>\n",
       "      <th>9833</th>\n",
       "      <td>9834</td>\n",
       "      <td>,瓶装啤酒,瓶装水,半成品面包,苏打</td>\n",
       "    </tr>\n",
       "    <tr>\n",
       "      <th>9834</th>\n",
       "      <td>9835</td>\n",
       "      <td>,鸡,其他蔬菜,购物袋,热带水果,醋</td>\n",
       "    </tr>\n",
       "  </tbody>\n",
       "</table>\n",
       "<p>9835 rows × 2 columns</p>\n",
       "</div>"
      ],
      "text/plain": [
       "        id                                              Goods\n",
       "0        1                              ,柑橘类水果,人造黄油,即食汤,半成品面包\n",
       "1        2                                        ,咖啡,热带水果,酸奶\n",
       "2        3                                              ,全脂牛奶\n",
       "3        4                                  ,奶油乳酪,肉泥,仁果类水果,酸奶\n",
       "4        5                                  ,炼乳,长面包,其他蔬菜,全脂牛奶\n",
       "...    ...                                                ...\n",
       "9830  9831  ,牛肉,黄油,鸡,巧克力,柑橘类水果,咖啡,面粉,葡萄,汉堡肉,卫生用品,餐巾,粉红葡萄酒,...\n",
       "9831  9832                                             ,烹饪巧克力\n",
       "9832  9833        ,黄油,鸡,柑橘类水果,保鲜膜/袋,本地蛋类,冷冻甜点,其他蔬菜,面包卷,朗姆酒,酸奶\n",
       "9833  9834                                 ,瓶装啤酒,瓶装水,半成品面包,苏打\n",
       "9834  9835                                 ,鸡,其他蔬菜,购物袋,热带水果,醋\n",
       "\n",
       "[9835 rows x 2 columns]"
      ]
     },
     "execution_count": 103,
     "metadata": {},
     "output_type": "execute_result"
    }
   ],
   "source": [
    "data"
   ]
  },
  {
   "cell_type": "code",
   "execution_count": 104,
   "id": "573e3c95-1c71-4153-af67-3bb37219cf59",
   "metadata": {},
   "outputs": [],
   "source": [
    "data.Goods = data.Goods.apply(lambda x : [x[1:]])"
   ]
  },
  {
   "cell_type": "code",
   "execution_count": 105,
   "id": "8fd1026b-db8c-4b01-9dcb-6ccf427f93f3",
   "metadata": {},
   "outputs": [],
   "source": [
    "data_list = list(data.Goods)"
   ]
  },
  {
   "cell_type": "code",
   "execution_count": 107,
   "id": "5424a80d-70c8-47b4-bffc-fa9e19dadfa3",
   "metadata": {},
   "outputs": [],
   "source": [
    "data_trans = []\n",
    "for l in data_list:\n",
    "    p = l[0].split(',')\n",
    "    data_trans.append(p)"
   ]
  },
  {
   "cell_type": "code",
   "execution_count": 108,
   "id": "6434560d-10f5-4aac-93eb-c7def3fae404",
   "metadata": {},
   "outputs": [
    {
     "name": "stdout",
     "output_type": "stream",
     "text": [
      "[['柑橘类水果', '人造黄油', '即食汤', '半成品面包'], ['咖啡', '热带水果', '酸奶'], ['全脂牛奶'], ['奶油乳酪', '肉泥', '仁果类水果', '酸奶'], ['炼乳', '长面包', '其他蔬菜', '全脂牛奶']]\n"
     ]
    }
   ],
   "source": [
    "print(data_trans[:5])"
   ]
  },
  {
   "cell_type": "code",
   "execution_count": 112,
   "id": "5acfdadd-81f1-4cfb-8ffd-fd4e50a66490",
   "metadata": {},
   "outputs": [
    {
     "name": "stdout",
     "output_type": "stream",
     "text": [
      "frozenset({'水果/蔬菜汁'}) --> frozenset({'全脂牛奶'}) 支持度 0.02664 置信度： 0.368495 lift值为： 1.44216\n",
      "frozenset({'人造黄油'}) --> frozenset({'全脂牛奶'}) 支持度 0.024199 置信度： 0.413194 lift值为： 1.617098\n",
      "frozenset({'仁果类水果'}) --> frozenset({'全脂牛奶'}) 支持度 0.030097 置信度： 0.397849 lift值为： 1.557043\n",
      "frozenset({'牛肉'}) --> frozenset({'全脂牛奶'}) 支持度 0.021251 置信度： 0.405039 lift值为： 1.58518\n",
      "frozenset({'冷冻蔬菜'}) --> frozenset({'全脂牛奶'}) 支持度 0.020437 置信度： 0.424947 lift值为： 1.663094\n",
      "frozenset({'本地蛋类'}) --> frozenset({'其他蔬菜'}) 支持度 0.022267 置信度： 0.350962 lift值为： 1.813824\n",
      "frozenset({'黄油'}) --> frozenset({'其他蔬菜'}) 支持度 0.020031 置信度： 0.361468 lift值为： 1.868122\n",
      "frozenset({'本地蛋类'}) --> frozenset({'全脂牛奶'}) 支持度 0.029995 置信度： 0.472756 lift值为： 1.850203\n",
      "frozenset({'黑面包'}) --> frozenset({'全脂牛奶'}) 支持度 0.025216 置信度： 0.388715 lift值为： 1.521293\n",
      "frozenset({'糕点'}) --> frozenset({'全脂牛奶'}) 支持度 0.033249 置信度： 0.373714 lift值为： 1.462587\n",
      "frozenset({'酸奶油'}) --> frozenset({'其他蔬菜'}) 支持度 0.028876 置信度： 0.402837 lift值为： 2.081924\n",
      "frozenset({'猪肉'}) --> frozenset({'其他蔬菜'}) 支持度 0.021657 置信度： 0.375661 lift值为： 1.941476\n",
      "frozenset({'酸奶油'}) --> frozenset({'全脂牛奶'}) 支持度 0.032232 置信度： 0.449645 lift值为： 1.759754\n",
      "frozenset({'猪肉'}) --> frozenset({'全脂牛奶'}) 支持度 0.022166 置信度： 0.38448 lift值为： 1.504719\n",
      "frozenset({'根茎类蔬菜'}) --> frozenset({'全脂牛奶'}) 支持度 0.048907 置信度： 0.448694 lift值为： 1.756031\n",
      "frozenset({'根茎类蔬菜'}) --> frozenset({'其他蔬菜'}) 支持度 0.047382 置信度： 0.434701 lift值为： 2.246605\n",
      "frozenset({'凝乳'}) --> frozenset({'全脂牛奶'}) 支持度 0.026131 置信度： 0.490458 lift值为： 1.919481\n",
      "frozenset({'热带水果'}) --> frozenset({'全脂牛奶'}) 支持度 0.042298 置信度： 0.403101 lift值为： 1.577595\n",
      "frozenset({'柑橘类水果'}) --> frozenset({'全脂牛奶'}) 支持度 0.030503 置信度： 0.36855 lift值为： 1.442377\n",
      "frozenset({'黄油'}) --> frozenset({'全脂牛奶'}) 支持度 0.027555 置信度： 0.497248 lift值为： 1.946053\n",
      "frozenset({'酸奶'}) --> frozenset({'全脂牛奶'}) 支持度 0.056024 置信度： 0.401603 lift值为： 1.571735\n",
      "frozenset({'其他蔬菜'}) --> frozenset({'全脂牛奶'}) 支持度 0.074835 置信度： 0.386758 lift值为： 1.513634\n",
      "frozenset({'其他蔬菜', '酸奶'}) --> frozenset({'全脂牛奶'}) 支持度 0.022267 置信度： 0.512881 lift值为： 2.007235\n",
      "frozenset({'全脂牛奶', '酸奶'}) --> frozenset({'其他蔬菜'}) 支持度 0.022267 置信度： 0.397459 lift值为： 2.054131\n",
      "frozenset({'其他蔬菜', '根茎类蔬菜'}) --> frozenset({'全脂牛奶'}) 支持度 0.023183 置信度： 0.48927 lift值为： 1.914833\n",
      "frozenset({'全脂牛奶', '根茎类蔬菜'}) --> frozenset({'其他蔬菜'}) 支持度 0.023183 置信度： 0.474012 lift值为： 2.44977\n"
     ]
    }
   ],
   "source": [
    "dataSet = data_trans\n",
    "L, supportData = apriori(dataSet, minSupport = 0.02)\n",
    "rule = gen_rule(L, supportData, minConf = 0.35)"
   ]
  }
 ],
 "metadata": {
  "kernelspec": {
   "display_name": "Python 3",
   "language": "python",
   "name": "python3"
  },
  "language_info": {
   "codemirror_mode": {
    "name": "ipython",
    "version": 3
   },
   "file_extension": ".py",
   "mimetype": "text/x-python",
   "name": "python",
   "nbconvert_exporter": "python",
   "pygments_lexer": "ipython3",
   "version": "3.9.2"
  }
 },
 "nbformat": 4,
 "nbformat_minor": 5
}
