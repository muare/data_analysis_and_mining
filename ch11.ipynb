{
 "cells": [
  {
   "cell_type": "code",
   "execution_count": 2,
   "id": "7f2fe567-7db0-482c-9752-21cab8731cf7",
   "metadata": {},
   "outputs": [],
   "source": [
    "import pandas as pd\n",
    "import numpy as np\n",
    "import matplotlib.pyplot as plt\n",
    "import re\n",
    "from sklearn.model_selection import train_test_split\n",
    "from tqdm.notebook import tqdm_notebook"
   ]
  },
  {
   "cell_type": "code",
   "execution_count": 3,
   "id": "66325b6f-d76d-40c8-9ab7-6f631eeef7a5",
   "metadata": {},
   "outputs": [],
   "source": [
    "plt.rcParams['font.family']=['Heiti TC']\n",
    "plt.rcParams['figure.figsize']=(20,10)"
   ]
  },
  {
   "cell_type": "code",
   "execution_count": 4,
   "id": "118e6818-bd50-4fc1-9dc7-5b2f6c88d536",
   "metadata": {},
   "outputs": [
    {
     "name": "stderr",
     "output_type": "stream",
     "text": [
      "/Users/xiebian/anaconda3/envs/web/lib/python3.9/site-packages/IPython/core/interactiveshell.py:3165: DtypeWarning: Columns (0,1) have mixed types.Specify dtype option on import or set low_memory=False.\n",
      "  has_raised = await self.run_ast_nodes(code_ast.body, cell_name,\n"
     ]
    }
   ],
   "source": [
    "data=pd.read_csv('tutorial/chapter11/demo/tmp/all_gzdata.csv',dtype={'fullURLId':str})"
   ]
  },
  {
   "cell_type": "code",
   "execution_count": 5,
   "id": "4e741c75-ffe6-48a0-af6d-a259b056db9e",
   "metadata": {},
   "outputs": [
    {
     "data": {
      "text/html": [
       "<div>\n",
       "<style scoped>\n",
       "    .dataframe tbody tr th:only-of-type {\n",
       "        vertical-align: middle;\n",
       "    }\n",
       "\n",
       "    .dataframe tbody tr th {\n",
       "        vertical-align: top;\n",
       "    }\n",
       "\n",
       "    .dataframe thead th {\n",
       "        text-align: right;\n",
       "    }\n",
       "</style>\n",
       "<table border=\"1\" class=\"dataframe\">\n",
       "  <thead>\n",
       "    <tr style=\"text-align: right;\">\n",
       "      <th></th>\n",
       "      <th>realIP</th>\n",
       "      <th>realAreacode</th>\n",
       "      <th>userAgent</th>\n",
       "      <th>userOS</th>\n",
       "      <th>userID</th>\n",
       "      <th>clientID</th>\n",
       "      <th>timestamp</th>\n",
       "      <th>timestamp_format</th>\n",
       "      <th>pagePath</th>\n",
       "      <th>ymd</th>\n",
       "      <th>...</th>\n",
       "      <th>fullURLId</th>\n",
       "      <th>hostname</th>\n",
       "      <th>pageTitle</th>\n",
       "      <th>pageTitleCategoryId</th>\n",
       "      <th>pageTitleCategoryName</th>\n",
       "      <th>pageTitleKw</th>\n",
       "      <th>fullReferrer</th>\n",
       "      <th>fullReferrerURL</th>\n",
       "      <th>organicKeyword</th>\n",
       "      <th>source</th>\n",
       "    </tr>\n",
       "  </thead>\n",
       "  <tbody>\n",
       "    <tr>\n",
       "      <th>0</th>\n",
       "      <td>2683657840</td>\n",
       "      <td>140100</td>\n",
       "      <td>Mozilla/5.0 (Windows NT 5.1) AppleWebKit/537.3...</td>\n",
       "      <td>Windows XP</td>\n",
       "      <td>7.850222e+08</td>\n",
       "      <td>7.850222e+08</td>\n",
       "      <td>1.422973e+12</td>\n",
       "      <td>2015-02-03 22:21:08</td>\n",
       "      <td>/info/hunyin/hunyinfagui/201404102884290_6.html</td>\n",
       "      <td>20150203.0</td>\n",
       "      <td>...</td>\n",
       "      <td>107001</td>\n",
       "      <td>www.lawtime.cn</td>\n",
       "      <td>广东省人口与计划生育条例全文2014 - 法律快车婚姻法</td>\n",
       "      <td>31.0</td>\n",
       "      <td>故意伤害</td>\n",
       "      <td>计划生育</td>\n",
       "      <td>NaN</td>\n",
       "      <td>NaN</td>\n",
       "      <td>NaN</td>\n",
       "      <td>NaN</td>\n",
       "    </tr>\n",
       "    <tr>\n",
       "      <th>1</th>\n",
       "      <td>973705742</td>\n",
       "      <td>140100</td>\n",
       "      <td>Mozilla/5.0 (Windows NT 6.1; WOW64) AppleWebKi...</td>\n",
       "      <td>Windows 7</td>\n",
       "      <td>2.048327e+09</td>\n",
       "      <td>2.048327e+09</td>\n",
       "      <td>1.422973e+12</td>\n",
       "      <td>2015-02-03 22:21:08</td>\n",
       "      <td>/ask/exp/17199.html</td>\n",
       "      <td>20150203.0</td>\n",
       "      <td>...</td>\n",
       "      <td>1999001</td>\n",
       "      <td>www.lawtime.cn</td>\n",
       "      <td>非广州户籍人员可以在广州申请出入境证件吗？ - 法律快车法律经验</td>\n",
       "      <td>20.0</td>\n",
       "      <td>劳资纠纷</td>\n",
       "      <td>出入境</td>\n",
       "      <td>baidu</td>\n",
       "      <td>http://www.baidu.com/s?wd=%E9%9D%9E%E5%B9%BF%E...</td>\n",
       "      <td>非广州户籍人员怎么申请预约出入境</td>\n",
       "      <td>baidu</td>\n",
       "    </tr>\n",
       "    <tr>\n",
       "      <th>2</th>\n",
       "      <td>3104681075</td>\n",
       "      <td>140100</td>\n",
       "      <td>Mozilla/5.0 (Windows NT 5.1) AppleWebKit/537.3...</td>\n",
       "      <td>Windows XP</td>\n",
       "      <td>1.639802e+09</td>\n",
       "      <td>1.639802e+09</td>\n",
       "      <td>1.422973e+12</td>\n",
       "      <td>2015-02-03 22:21:17</td>\n",
       "      <td>/ask/question_3893276.html</td>\n",
       "      <td>20150203.0</td>\n",
       "      <td>...</td>\n",
       "      <td>101003</td>\n",
       "      <td>www.lawtime.cn</td>\n",
       "      <td>汽车碰撞自行车或两轮摩托车精确碰撞点的确定方法 - 法律快车法律咨询</td>\n",
       "      <td>26.0</td>\n",
       "      <td>定罪量刑</td>\n",
       "      <td>法律咨询</td>\n",
       "      <td>www.haosou.com/s</td>\n",
       "      <td>http://www.haosou.com/s?psid=e79d0155bed18bf4b...</td>\n",
       "      <td>NaN</td>\n",
       "      <td>www.haosou.com</td>\n",
       "    </tr>\n",
       "    <tr>\n",
       "      <th>3</th>\n",
       "      <td>308351962</td>\n",
       "      <td>140106</td>\n",
       "      <td>Mozilla/4.0 (compatible; MSIE 8.0; Windows NT ...</td>\n",
       "      <td>Windows XP</td>\n",
       "      <td>1.597051e+09</td>\n",
       "      <td>1.597051e+09</td>\n",
       "      <td>1.422973e+12</td>\n",
       "      <td>2015-02-03 22:21:22</td>\n",
       "      <td>/ask/question_5281741.html</td>\n",
       "      <td>20150203.0</td>\n",
       "      <td>...</td>\n",
       "      <td>101003</td>\n",
       "      <td>www.lawtime.cn</td>\n",
       "      <td>交通事故销案后不满意赔偿可以重新立案吗 - 法律快车法律咨询</td>\n",
       "      <td>12.0</td>\n",
       "      <td>伤害赔偿</td>\n",
       "      <td>法律咨询</td>\n",
       "      <td>baidu</td>\n",
       "      <td>http://www.baidu.com/s?word=%E4%BA%A4%E9%80%9A...</td>\n",
       "      <td>交通事故赔偿后交警要销案吗</td>\n",
       "      <td>baidu</td>\n",
       "    </tr>\n",
       "    <tr>\n",
       "      <th>4</th>\n",
       "      <td>2683657840</td>\n",
       "      <td>140100</td>\n",
       "      <td>Mozilla/5.0 (Windows NT 5.1) AppleWebKit/537.3...</td>\n",
       "      <td>Windows XP</td>\n",
       "      <td>7.850222e+08</td>\n",
       "      <td>7.850222e+08</td>\n",
       "      <td>1.422973e+12</td>\n",
       "      <td>2015-02-03 22:21:30</td>\n",
       "      <td>/info/hunyin/hunyinfagui/201404102884290_5.html</td>\n",
       "      <td>20150203.0</td>\n",
       "      <td>...</td>\n",
       "      <td>107001</td>\n",
       "      <td>www.lawtime.cn</td>\n",
       "      <td>广东省人口与计划生育条例全文2014 - 法律快车婚姻法</td>\n",
       "      <td>31.0</td>\n",
       "      <td>故意伤害</td>\n",
       "      <td>计划生育</td>\n",
       "      <td>NaN</td>\n",
       "      <td>NaN</td>\n",
       "      <td>NaN</td>\n",
       "      <td>NaN</td>\n",
       "    </tr>\n",
       "  </tbody>\n",
       "</table>\n",
       "<p>5 rows × 21 columns</p>\n",
       "</div>"
      ],
      "text/plain": [
       "       realIP realAreacode                                          userAgent  \\\n",
       "0  2683657840       140100  Mozilla/5.0 (Windows NT 5.1) AppleWebKit/537.3...   \n",
       "1   973705742       140100  Mozilla/5.0 (Windows NT 6.1; WOW64) AppleWebKi...   \n",
       "2  3104681075       140100  Mozilla/5.0 (Windows NT 5.1) AppleWebKit/537.3...   \n",
       "3   308351962       140106  Mozilla/4.0 (compatible; MSIE 8.0; Windows NT ...   \n",
       "4  2683657840       140100  Mozilla/5.0 (Windows NT 5.1) AppleWebKit/537.3...   \n",
       "\n",
       "       userOS        userID      clientID     timestamp     timestamp_format  \\\n",
       "0  Windows XP  7.850222e+08  7.850222e+08  1.422973e+12  2015-02-03 22:21:08   \n",
       "1   Windows 7  2.048327e+09  2.048327e+09  1.422973e+12  2015-02-03 22:21:08   \n",
       "2  Windows XP  1.639802e+09  1.639802e+09  1.422973e+12  2015-02-03 22:21:17   \n",
       "3  Windows XP  1.597051e+09  1.597051e+09  1.422973e+12  2015-02-03 22:21:22   \n",
       "4  Windows XP  7.850222e+08  7.850222e+08  1.422973e+12  2015-02-03 22:21:30   \n",
       "\n",
       "                                          pagePath         ymd  ... fullURLId  \\\n",
       "0  /info/hunyin/hunyinfagui/201404102884290_6.html  20150203.0  ...    107001   \n",
       "1                              /ask/exp/17199.html  20150203.0  ...   1999001   \n",
       "2                       /ask/question_3893276.html  20150203.0  ...    101003   \n",
       "3                       /ask/question_5281741.html  20150203.0  ...    101003   \n",
       "4  /info/hunyin/hunyinfagui/201404102884290_5.html  20150203.0  ...    107001   \n",
       "\n",
       "         hostname                           pageTitle pageTitleCategoryId  \\\n",
       "0  www.lawtime.cn        广东省人口与计划生育条例全文2014 - 法律快车婚姻法                31.0   \n",
       "1  www.lawtime.cn    非广州户籍人员可以在广州申请出入境证件吗？ - 法律快车法律经验                20.0   \n",
       "2  www.lawtime.cn  汽车碰撞自行车或两轮摩托车精确碰撞点的确定方法 - 法律快车法律咨询                26.0   \n",
       "3  www.lawtime.cn      交通事故销案后不满意赔偿可以重新立案吗 - 法律快车法律咨询                12.0   \n",
       "4  www.lawtime.cn        广东省人口与计划生育条例全文2014 - 法律快车婚姻法                31.0   \n",
       "\n",
       "   pageTitleCategoryName pageTitleKw      fullReferrer  \\\n",
       "0                   故意伤害        计划生育               NaN   \n",
       "1                   劳资纠纷         出入境             baidu   \n",
       "2                   定罪量刑        法律咨询  www.haosou.com/s   \n",
       "3                   伤害赔偿        法律咨询             baidu   \n",
       "4                   故意伤害        计划生育               NaN   \n",
       "\n",
       "                                     fullReferrerURL    organicKeyword  \\\n",
       "0                                                NaN               NaN   \n",
       "1  http://www.baidu.com/s?wd=%E9%9D%9E%E5%B9%BF%E...  非广州户籍人员怎么申请预约出入境   \n",
       "2  http://www.haosou.com/s?psid=e79d0155bed18bf4b...               NaN   \n",
       "3  http://www.baidu.com/s?word=%E4%BA%A4%E9%80%9A...     交通事故赔偿后交警要销案吗   \n",
       "4                                                NaN               NaN   \n",
       "\n",
       "           source  \n",
       "0             NaN  \n",
       "1           baidu  \n",
       "2  www.haosou.com  \n",
       "3           baidu  \n",
       "4             NaN  \n",
       "\n",
       "[5 rows x 21 columns]"
      ]
     },
     "execution_count": 5,
     "metadata": {},
     "output_type": "execute_result"
    }
   ],
   "source": [
    "data.head()"
   ]
  },
  {
   "cell_type": "code",
   "execution_count": 6,
   "id": "036254cf-f635-4e78-a609-fef162973cea",
   "metadata": {},
   "outputs": [],
   "source": [
    "counts = data['fullURLId'].value_counts()"
   ]
  },
  {
   "cell_type": "code",
   "execution_count": 7,
   "id": "a5a33433-bb1a-4c7c-947e-d9ec1b610899",
   "metadata": {},
   "outputs": [],
   "source": [
    "counts = counts.reset_index()"
   ]
  },
  {
   "cell_type": "code",
   "execution_count": 8,
   "id": "ebf0cfa6-f6f2-45f8-a82d-59609ebb9de4",
   "metadata": {},
   "outputs": [],
   "source": [
    "counts.columns=['id','num']"
   ]
  },
  {
   "cell_type": "code",
   "execution_count": 9,
   "id": "0a377350-16b9-4a0f-96e2-8ae505dd9ac5",
   "metadata": {},
   "outputs": [
    {
     "data": {
      "text/html": [
       "<div>\n",
       "<style scoped>\n",
       "    .dataframe tbody tr th:only-of-type {\n",
       "        vertical-align: middle;\n",
       "    }\n",
       "\n",
       "    .dataframe tbody tr th {\n",
       "        vertical-align: top;\n",
       "    }\n",
       "\n",
       "    .dataframe thead th {\n",
       "        text-align: right;\n",
       "    }\n",
       "</style>\n",
       "<table border=\"1\" class=\"dataframe\">\n",
       "  <thead>\n",
       "    <tr style=\"text-align: right;\">\n",
       "      <th></th>\n",
       "      <th>id</th>\n",
       "      <th>num</th>\n",
       "    </tr>\n",
       "  </thead>\n",
       "  <tbody>\n",
       "    <tr>\n",
       "      <th>0</th>\n",
       "      <td>101003</td>\n",
       "      <td>396612</td>\n",
       "    </tr>\n",
       "    <tr>\n",
       "      <th>1</th>\n",
       "      <td>1999001</td>\n",
       "      <td>201426</td>\n",
       "    </tr>\n",
       "    <tr>\n",
       "      <th>2</th>\n",
       "      <td>107001</td>\n",
       "      <td>182900</td>\n",
       "    </tr>\n",
       "    <tr>\n",
       "      <th>3</th>\n",
       "      <td>301001</td>\n",
       "      <td>18430</td>\n",
       "    </tr>\n",
       "    <tr>\n",
       "      <th>4</th>\n",
       "      <td>102002</td>\n",
       "      <td>12021</td>\n",
       "    </tr>\n",
       "    <tr>\n",
       "      <th>5</th>\n",
       "      <td>101002</td>\n",
       "      <td>7776</td>\n",
       "    </tr>\n",
       "    <tr>\n",
       "      <th>6</th>\n",
       "      <td>101001</td>\n",
       "      <td>5603</td>\n",
       "    </tr>\n",
       "    <tr>\n",
       "      <th>7</th>\n",
       "      <td>106001</td>\n",
       "      <td>3957</td>\n",
       "    </tr>\n",
       "    <tr>\n",
       "      <th>8</th>\n",
       "      <td>102001</td>\n",
       "      <td>2129</td>\n",
       "    </tr>\n",
       "    <tr>\n",
       "      <th>9</th>\n",
       "      <td>103003</td>\n",
       "      <td>1526</td>\n",
       "    </tr>\n",
       "    <tr>\n",
       "      <th>10</th>\n",
       "      <td>102003</td>\n",
       "      <td>1235</td>\n",
       "    </tr>\n",
       "    <tr>\n",
       "      <th>11</th>\n",
       "      <td>101009</td>\n",
       "      <td>854</td>\n",
       "    </tr>\n",
       "    <tr>\n",
       "      <th>12</th>\n",
       "      <td>102007</td>\n",
       "      <td>538</td>\n",
       "    </tr>\n",
       "    <tr>\n",
       "      <th>13</th>\n",
       "      <td>102008</td>\n",
       "      <td>404</td>\n",
       "    </tr>\n",
       "    <tr>\n",
       "      <th>14</th>\n",
       "      <td>101008</td>\n",
       "      <td>378</td>\n",
       "    </tr>\n",
       "    <tr>\n",
       "      <th>15</th>\n",
       "      <td>102004</td>\n",
       "      <td>361</td>\n",
       "    </tr>\n",
       "    <tr>\n",
       "      <th>16</th>\n",
       "      <td>102005</td>\n",
       "      <td>271</td>\n",
       "    </tr>\n",
       "    <tr>\n",
       "      <th>17</th>\n",
       "      <td>102009</td>\n",
       "      <td>214</td>\n",
       "    </tr>\n",
       "    <tr>\n",
       "      <th>18</th>\n",
       "      <td>103002</td>\n",
       "      <td>189</td>\n",
       "    </tr>\n",
       "    <tr>\n",
       "      <th>19</th>\n",
       "      <td>102006</td>\n",
       "      <td>184</td>\n",
       "    </tr>\n",
       "    <tr>\n",
       "      <th>20</th>\n",
       "      <td>101007</td>\n",
       "      <td>147</td>\n",
       "    </tr>\n",
       "    <tr>\n",
       "      <th>21</th>\n",
       "      <td>101004</td>\n",
       "      <td>125</td>\n",
       "    </tr>\n",
       "    <tr>\n",
       "      <th>22</th>\n",
       "      <td>101006</td>\n",
       "      <td>107</td>\n",
       "    </tr>\n",
       "    <tr>\n",
       "      <th>23</th>\n",
       "      <td>101005</td>\n",
       "      <td>63</td>\n",
       "    </tr>\n",
       "  </tbody>\n",
       "</table>\n",
       "</div>"
      ],
      "text/plain": [
       "         id     num\n",
       "0    101003  396612\n",
       "1   1999001  201426\n",
       "2    107001  182900\n",
       "3    301001   18430\n",
       "4    102002   12021\n",
       "5    101002    7776\n",
       "6    101001    5603\n",
       "7    106001    3957\n",
       "8    102001    2129\n",
       "9    103003    1526\n",
       "10   102003    1235\n",
       "11   101009     854\n",
       "12   102007     538\n",
       "13   102008     404\n",
       "14   101008     378\n",
       "15   102004     361\n",
       "16   102005     271\n",
       "17   102009     214\n",
       "18   103002     189\n",
       "19   102006     184\n",
       "20   101007     147\n",
       "21   101004     125\n",
       "22   101006     107\n",
       "23   101005      63"
      ]
     },
     "execution_count": 9,
     "metadata": {},
     "output_type": "execute_result"
    }
   ],
   "source": [
    "counts"
   ]
  },
  {
   "cell_type": "code",
   "execution_count": 10,
   "id": "e597d884-eac0-4966-a55e-f9a78a2b6954",
   "metadata": {},
   "outputs": [],
   "source": [
    "counts['type']=counts.id.str.extract('(\\d{3})')"
   ]
  },
  {
   "cell_type": "code",
   "execution_count": 11,
   "id": "b57f76e9-5c88-42e9-a0b7-309cada191dc",
   "metadata": {},
   "outputs": [],
   "source": [
    "counts_=counts[['type','num']].groupby('type').sum()"
   ]
  },
  {
   "cell_type": "code",
   "execution_count": 12,
   "id": "b8a61cf4-d264-4d60-b5f1-232429d5c1ca",
   "metadata": {},
   "outputs": [],
   "source": [
    "counts_.sort_values(by='num',ascending=False,inplace=True)"
   ]
  },
  {
   "cell_type": "code",
   "execution_count": 13,
   "id": "72549235-430f-475c-9c5e-c11952c6c2d8",
   "metadata": {},
   "outputs": [
    {
     "data": {
      "text/html": [
       "<div>\n",
       "<style scoped>\n",
       "    .dataframe tbody tr th:only-of-type {\n",
       "        vertical-align: middle;\n",
       "    }\n",
       "\n",
       "    .dataframe tbody tr th {\n",
       "        vertical-align: top;\n",
       "    }\n",
       "\n",
       "    .dataframe thead th {\n",
       "        text-align: right;\n",
       "    }\n",
       "</style>\n",
       "<table border=\"1\" class=\"dataframe\">\n",
       "  <thead>\n",
       "    <tr style=\"text-align: right;\">\n",
       "      <th></th>\n",
       "      <th>num</th>\n",
       "    </tr>\n",
       "    <tr>\n",
       "      <th>type</th>\n",
       "      <th></th>\n",
       "    </tr>\n",
       "  </thead>\n",
       "  <tbody>\n",
       "    <tr>\n",
       "      <th>101</th>\n",
       "      <td>411665</td>\n",
       "    </tr>\n",
       "    <tr>\n",
       "      <th>199</th>\n",
       "      <td>201426</td>\n",
       "    </tr>\n",
       "    <tr>\n",
       "      <th>107</th>\n",
       "      <td>182900</td>\n",
       "    </tr>\n",
       "    <tr>\n",
       "      <th>301</th>\n",
       "      <td>18430</td>\n",
       "    </tr>\n",
       "    <tr>\n",
       "      <th>102</th>\n",
       "      <td>17357</td>\n",
       "    </tr>\n",
       "    <tr>\n",
       "      <th>106</th>\n",
       "      <td>3957</td>\n",
       "    </tr>\n",
       "    <tr>\n",
       "      <th>103</th>\n",
       "      <td>1715</td>\n",
       "    </tr>\n",
       "  </tbody>\n",
       "</table>\n",
       "</div>"
      ],
      "text/plain": [
       "         num\n",
       "type        \n",
       "101   411665\n",
       "199   201426\n",
       "107   182900\n",
       "301    18430\n",
       "102    17357\n",
       "106     3957\n",
       "103     1715"
      ]
     },
     "execution_count": 13,
     "metadata": {},
     "output_type": "execute_result"
    }
   ],
   "source": [
    "counts_"
   ]
  },
  {
   "cell_type": "code",
   "execution_count": 14,
   "id": "5bc99d0a-499f-4651-a455-23215c2b40a7",
   "metadata": {},
   "outputs": [],
   "source": [
    "counts_['ratio'] = counts_['num']/sum(counts_['num'])"
   ]
  },
  {
   "cell_type": "code",
   "execution_count": 15,
   "id": "b3b0d851-dfa1-4312-9c72-87801f7e4532",
   "metadata": {},
   "outputs": [],
   "source": [
    "counts_ = counts_.reset_index()"
   ]
  },
  {
   "cell_type": "code",
   "execution_count": 16,
   "id": "37263b74-e502-4bbe-8c8e-6b86341a07b9",
   "metadata": {},
   "outputs": [
    {
     "data": {
      "image/png": "[encoded data removed]",
      "text/plain": [
       "<Figure size 1440x720 with 1 Axes>"
      ]
     },
     "metadata": {},
     "output_type": "display_data"
    }
   ],
   "source": [
    "plt.pie(counts_[\"num\"],autopct='%1.2f%%',labels=counts_['type'])\n",
    "plt.show()"
   ]
  },
  {
   "cell_type": "code",
   "execution_count": 17,
   "id": "58f14d80-e919-41a0-8269-26425c53a667",
   "metadata": {},
   "outputs": [
    {
     "data": {
      "text/html": [
       "<div>\n",
       "<style scoped>\n",
       "    .dataframe tbody tr th:only-of-type {\n",
       "        vertical-align: middle;\n",
       "    }\n",
       "\n",
       "    .dataframe tbody tr th {\n",
       "        vertical-align: top;\n",
       "    }\n",
       "\n",
       "    .dataframe thead th {\n",
       "        text-align: right;\n",
       "    }\n",
       "</style>\n",
       "<table border=\"1\" class=\"dataframe\">\n",
       "  <thead>\n",
       "    <tr style=\"text-align: right;\">\n",
       "      <th></th>\n",
       "      <th>type</th>\n",
       "      <th>num</th>\n",
       "      <th>ratio</th>\n",
       "    </tr>\n",
       "  </thead>\n",
       "  <tbody>\n",
       "    <tr>\n",
       "      <th>0</th>\n",
       "      <td>101</td>\n",
       "      <td>411665</td>\n",
       "      <td>0.491570</td>\n",
       "    </tr>\n",
       "    <tr>\n",
       "      <th>1</th>\n",
       "      <td>199</td>\n",
       "      <td>201426</td>\n",
       "      <td>0.240523</td>\n",
       "    </tr>\n",
       "    <tr>\n",
       "      <th>2</th>\n",
       "      <td>107</td>\n",
       "      <td>182900</td>\n",
       "      <td>0.218401</td>\n",
       "    </tr>\n",
       "    <tr>\n",
       "      <th>3</th>\n",
       "      <td>301</td>\n",
       "      <td>18430</td>\n",
       "      <td>0.022007</td>\n",
       "    </tr>\n",
       "    <tr>\n",
       "      <th>4</th>\n",
       "      <td>102</td>\n",
       "      <td>17357</td>\n",
       "      <td>0.020726</td>\n",
       "    </tr>\n",
       "    <tr>\n",
       "      <th>5</th>\n",
       "      <td>106</td>\n",
       "      <td>3957</td>\n",
       "      <td>0.004725</td>\n",
       "    </tr>\n",
       "    <tr>\n",
       "      <th>6</th>\n",
       "      <td>103</td>\n",
       "      <td>1715</td>\n",
       "      <td>0.002048</td>\n",
       "    </tr>\n",
       "  </tbody>\n",
       "</table>\n",
       "</div>"
      ],
      "text/plain": [
       "  type     num     ratio\n",
       "0  101  411665  0.491570\n",
       "1  199  201426  0.240523\n",
       "2  107  182900  0.218401\n",
       "3  301   18430  0.022007\n",
       "4  102   17357  0.020726\n",
       "5  106    3957  0.004725\n",
       "6  103    1715  0.002048"
      ]
     },
     "execution_count": 17,
     "metadata": {},
     "output_type": "execute_result"
    }
   ],
   "source": [
    "counts_"
   ]
  },
  {
   "cell_type": "code",
   "execution_count": 18,
   "id": "469520af-603c-49e8-b3ca-139d6b63542f",
   "metadata": {},
   "outputs": [],
   "source": [
    "url_107 = data['fullURL'][data['fullURLId'].notna()&data['fullURLId'].str.startswith(\"107\")]"
   ]
  },
  {
   "cell_type": "code",
   "execution_count": 19,
   "id": "80c66ef6-6061-4d1d-9b5e-2b22ab00f80c",
   "metadata": {},
   "outputs": [],
   "source": [
    "url_107=pd.DataFrame(url_107)"
   ]
  },
  {
   "cell_type": "code",
   "execution_count": 20,
   "id": "4bb3e3ba-2e15-4edc-95b1-fc2c9697d154",
   "metadata": {},
   "outputs": [
    {
     "data": {
      "text/html": [
       "<div>\n",
       "<style scoped>\n",
       "    .dataframe tbody tr th:only-of-type {\n",
       "        vertical-align: middle;\n",
       "    }\n",
       "\n",
       "    .dataframe tbody tr th {\n",
       "        vertical-align: top;\n",
       "    }\n",
       "\n",
       "    .dataframe thead th {\n",
       "        text-align: right;\n",
       "    }\n",
       "</style>\n",
       "<table border=\"1\" class=\"dataframe\">\n",
       "  <thead>\n",
       "    <tr style=\"text-align: right;\">\n",
       "      <th></th>\n",
       "      <th>fullURL</th>\n",
       "    </tr>\n",
       "  </thead>\n",
       "  <tbody>\n",
       "    <tr>\n",
       "      <th>0</th>\n",
       "      <td>http://www.lawtime.cn/info/hunyin/hunyinfagui/...</td>\n",
       "    </tr>\n",
       "    <tr>\n",
       "      <th>1</th>\n",
       "      <td>http://www.lawtime.cn/info/hunyin/hunyinfagui/...</td>\n",
       "    </tr>\n",
       "    <tr>\n",
       "      <th>2</th>\n",
       "      <td>http://www.lawtime.cn/info/laodong/zhiyebing/2...</td>\n",
       "    </tr>\n",
       "    <tr>\n",
       "      <th>3</th>\n",
       "      <td>http://www.lawtime.cn/info/hunyin/lhlawlhxy/20...</td>\n",
       "    </tr>\n",
       "    <tr>\n",
       "      <th>4</th>\n",
       "      <td>http://www.lawtime.cn/info/zhaiquan/zhaiquangu...</td>\n",
       "    </tr>\n",
       "    <tr>\n",
       "      <th>...</th>\n",
       "      <td>...</td>\n",
       "    </tr>\n",
       "    <tr>\n",
       "      <th>182895</th>\n",
       "      <td>http://www.lawtime.cn/info/minshi/fagui/201401...</td>\n",
       "    </tr>\n",
       "    <tr>\n",
       "      <th>182896</th>\n",
       "      <td>http://www.lawtime.cn/info/shengchan/aqzs/2008...</td>\n",
       "    </tr>\n",
       "    <tr>\n",
       "      <th>182897</th>\n",
       "      <td>http://www.lawtime.cn/info/minshi/fagui/201401...</td>\n",
       "    </tr>\n",
       "    <tr>\n",
       "      <th>182898</th>\n",
       "      <td>http://www.lawtime.cn/info/hunyin/znfylaw/</td>\n",
       "    </tr>\n",
       "    <tr>\n",
       "      <th>182899</th>\n",
       "      <td>http://www.lawtime.cn/info/fangdichan/fangdaix...</td>\n",
       "    </tr>\n",
       "  </tbody>\n",
       "</table>\n",
       "<p>182900 rows × 1 columns</p>\n",
       "</div>"
      ],
      "text/plain": [
       "                                                  fullURL\n",
       "0       http://www.lawtime.cn/info/hunyin/hunyinfagui/...\n",
       "1       http://www.lawtime.cn/info/hunyin/hunyinfagui/...\n",
       "2       http://www.lawtime.cn/info/laodong/zhiyebing/2...\n",
       "3       http://www.lawtime.cn/info/hunyin/lhlawlhxy/20...\n",
       "4       http://www.lawtime.cn/info/zhaiquan/zhaiquangu...\n",
       "...                                                   ...\n",
       "182895  http://www.lawtime.cn/info/minshi/fagui/201401...\n",
       "182896  http://www.lawtime.cn/info/shengchan/aqzs/2008...\n",
       "182897  http://www.lawtime.cn/info/minshi/fagui/201401...\n",
       "182898         http://www.lawtime.cn/info/hunyin/znfylaw/\n",
       "182899  http://www.lawtime.cn/info/fangdichan/fangdaix...\n",
       "\n",
       "[182900 rows x 1 columns]"
      ]
     },
     "execution_count": 20,
     "metadata": {},
     "output_type": "execute_result"
    }
   ],
   "source": [
    "url_107.reset_index(drop=True)"
   ]
  },
  {
   "cell_type": "code",
   "execution_count": 21,
   "id": "b64ed7de-41a2-4175-9a47-5a67b3e6b37f",
   "metadata": {},
   "outputs": [],
   "source": [
    "url_107['type']=None"
   ]
  },
  {
   "cell_type": "code",
   "execution_count": 22,
   "id": "f1c6a9e1-7de6-47aa-a4cd-5eac9b46ad42",
   "metadata": {},
   "outputs": [],
   "source": [
    "url_107['type'][url_107.fullURL.str.contains('info/.+?/')]='知识首页'\n",
    "url_107['type'][url_107.fullURL.str.contains('info/.+?/.+?')]='知识列表页'\n",
    "url_107['type'][url_107.fullURL.str.contains('/\\d+?_*\\d+?\\.html')]='知识内容页'"
   ]
  },
  {
   "cell_type": "code",
   "execution_count": 23,
   "id": "82e11f3a-f9dc-4c40-98b9-880d981f7c9d",
   "metadata": {},
   "outputs": [
    {
     "data": {
      "text/html": [
       "<div>\n",
       "<style scoped>\n",
       "    .dataframe tbody tr th:only-of-type {\n",
       "        vertical-align: middle;\n",
       "    }\n",
       "\n",
       "    .dataframe tbody tr th {\n",
       "        vertical-align: top;\n",
       "    }\n",
       "\n",
       "    .dataframe thead th {\n",
       "        text-align: right;\n",
       "    }\n",
       "</style>\n",
       "<table border=\"1\" class=\"dataframe\">\n",
       "  <thead>\n",
       "    <tr style=\"text-align: right;\">\n",
       "      <th></th>\n",
       "      <th>fullURL</th>\n",
       "    </tr>\n",
       "    <tr>\n",
       "      <th>type</th>\n",
       "      <th></th>\n",
       "    </tr>\n",
       "  </thead>\n",
       "  <tbody>\n",
       "    <tr>\n",
       "      <th>知识内容页</th>\n",
       "      <td>164243</td>\n",
       "    </tr>\n",
       "    <tr>\n",
       "      <th>知识列表页</th>\n",
       "      <td>9656</td>\n",
       "    </tr>\n",
       "    <tr>\n",
       "      <th>知识首页</th>\n",
       "      <td>9001</td>\n",
       "    </tr>\n",
       "  </tbody>\n",
       "</table>\n",
       "</div>"
      ],
      "text/plain": [
       "       fullURL\n",
       "type          \n",
       "知识内容页   164243\n",
       "知识列表页     9656\n",
       "知识首页      9001"
      ]
     },
     "execution_count": 23,
     "metadata": {},
     "output_type": "execute_result"
    }
   ],
   "source": [
    "url_107.groupby('type').count()"
   ]
  },
  {
   "cell_type": "code",
   "execution_count": 24,
   "id": "1d0ed176-f4f8-4715-956f-435d204072b8",
   "metadata": {},
   "outputs": [],
   "source": [
    "question_url_ids = data['fullURLId'][data['fullURL'].notna()&data['fullURL'].str.contains('\\?')] "
   ]
  },
  {
   "cell_type": "code",
   "execution_count": 25,
   "id": "bb6f82f6-ebd4-4309-b901-597e4bbbda24",
   "metadata": {},
   "outputs": [],
   "source": [
    "qcounts = question_url_ids.value_counts()"
   ]
  },
  {
   "cell_type": "code",
   "execution_count": 26,
   "id": "2bb9213d-71fb-4118-b89a-c7703ff642db",
   "metadata": {},
   "outputs": [],
   "source": [
    "qcounts = pd.DataFrame(qcounts)"
   ]
  },
  {
   "cell_type": "code",
   "execution_count": 27,
   "id": "b2249aa5-0349-48f1-ac8f-042823add971",
   "metadata": {},
   "outputs": [
    {
     "data": {
      "text/html": [
       "<div>\n",
       "<style scoped>\n",
       "    .dataframe tbody tr th:only-of-type {\n",
       "        vertical-align: middle;\n",
       "    }\n",
       "\n",
       "    .dataframe tbody tr th {\n",
       "        vertical-align: top;\n",
       "    }\n",
       "\n",
       "    .dataframe thead th {\n",
       "        text-align: right;\n",
       "    }\n",
       "</style>\n",
       "<table border=\"1\" class=\"dataframe\">\n",
       "  <thead>\n",
       "    <tr style=\"text-align: right;\">\n",
       "      <th></th>\n",
       "      <th>fullURLId</th>\n",
       "    </tr>\n",
       "  </thead>\n",
       "  <tbody>\n",
       "    <tr>\n",
       "      <th>1999001</th>\n",
       "      <td>64718</td>\n",
       "    </tr>\n",
       "    <tr>\n",
       "      <th>301001</th>\n",
       "      <td>356</td>\n",
       "    </tr>\n",
       "    <tr>\n",
       "      <th>107001</th>\n",
       "      <td>346</td>\n",
       "    </tr>\n",
       "    <tr>\n",
       "      <th>101003</th>\n",
       "      <td>47</td>\n",
       "    </tr>\n",
       "    <tr>\n",
       "      <th>102002</th>\n",
       "      <td>25</td>\n",
       "    </tr>\n",
       "  </tbody>\n",
       "</table>\n",
       "</div>"
      ],
      "text/plain": [
       "         fullURLId\n",
       "1999001      64718\n",
       "301001         356\n",
       "107001         346\n",
       "101003          47\n",
       "102002          25"
      ]
     },
     "execution_count": 27,
     "metadata": {},
     "output_type": "execute_result"
    }
   ],
   "source": [
    "qcounts"
   ]
  },
  {
   "cell_type": "code",
   "execution_count": 28,
   "id": "5bb24e1e-c833-47cd-96d0-a6a50af3dcbf",
   "metadata": {},
   "outputs": [],
   "source": [
    "qcounts['pct']=qcounts['fullURLId']/sum(qcounts['fullURLId'])*100"
   ]
  },
  {
   "cell_type": "code",
   "execution_count": 29,
   "id": "06588d6c-144f-44dd-8fa3-6aba7adfc134",
   "metadata": {},
   "outputs": [
    {
     "data": {
      "text/html": [
       "<div>\n",
       "<style scoped>\n",
       "    .dataframe tbody tr th:only-of-type {\n",
       "        vertical-align: middle;\n",
       "    }\n",
       "\n",
       "    .dataframe tbody tr th {\n",
       "        vertical-align: top;\n",
       "    }\n",
       "\n",
       "    .dataframe thead th {\n",
       "        text-align: right;\n",
       "    }\n",
       "</style>\n",
       "<table border=\"1\" class=\"dataframe\">\n",
       "  <thead>\n",
       "    <tr style=\"text-align: right;\">\n",
       "      <th></th>\n",
       "      <th>fullURLId</th>\n",
       "      <th>pct</th>\n",
       "    </tr>\n",
       "  </thead>\n",
       "  <tbody>\n",
       "    <tr>\n",
       "      <th>1999001</th>\n",
       "      <td>64718</td>\n",
       "      <td>98.818176</td>\n",
       "    </tr>\n",
       "    <tr>\n",
       "      <th>301001</th>\n",
       "      <td>356</td>\n",
       "      <td>0.543578</td>\n",
       "    </tr>\n",
       "    <tr>\n",
       "      <th>107001</th>\n",
       "      <td>346</td>\n",
       "      <td>0.528309</td>\n",
       "    </tr>\n",
       "    <tr>\n",
       "      <th>101003</th>\n",
       "      <td>47</td>\n",
       "      <td>0.071764</td>\n",
       "    </tr>\n",
       "    <tr>\n",
       "      <th>102002</th>\n",
       "      <td>25</td>\n",
       "      <td>0.038173</td>\n",
       "    </tr>\n",
       "  </tbody>\n",
       "</table>\n",
       "</div>"
      ],
      "text/plain": [
       "         fullURLId        pct\n",
       "1999001      64718  98.818176\n",
       "301001         356   0.543578\n",
       "107001         346   0.528309\n",
       "101003          47   0.071764\n",
       "102002          25   0.038173"
      ]
     },
     "execution_count": 29,
     "metadata": {},
     "output_type": "execute_result"
    }
   ],
   "source": [
    "qcounts"
   ]
  },
  {
   "cell_type": "code",
   "execution_count": 30,
   "id": "db213fe7-f59b-4975-bdc5-12d8da8805e5",
   "metadata": {},
   "outputs": [],
   "source": [
    "ip_counts = data['realIP'].value_counts()"
   ]
  },
  {
   "cell_type": "code",
   "execution_count": 31,
   "id": "79e82166-373a-406e-9e0f-d23bb6d3296f",
   "metadata": {},
   "outputs": [],
   "source": [
    "ip_counts = pd.DataFrame(ip_counts)"
   ]
  },
  {
   "cell_type": "code",
   "execution_count": 32,
   "id": "1d273f9e-50bb-447d-9539-a1cf91bbdf81",
   "metadata": {},
   "outputs": [
    {
     "data": {
      "text/html": [
       "<div>\n",
       "<style scoped>\n",
       "    .dataframe tbody tr th:only-of-type {\n",
       "        vertical-align: middle;\n",
       "    }\n",
       "\n",
       "    .dataframe tbody tr th {\n",
       "        vertical-align: top;\n",
       "    }\n",
       "\n",
       "    .dataframe thead th {\n",
       "        text-align: right;\n",
       "    }\n",
       "</style>\n",
       "<table border=\"1\" class=\"dataframe\">\n",
       "  <thead>\n",
       "    <tr style=\"text-align: right;\">\n",
       "      <th></th>\n",
       "      <th>realIP</th>\n",
       "    </tr>\n",
       "  </thead>\n",
       "  <tbody>\n",
       "    <tr>\n",
       "      <th>0</th>\n",
       "      <td>23483</td>\n",
       "    </tr>\n",
       "    <tr>\n",
       "      <th>1</th>\n",
       "      <td>21211</td>\n",
       "    </tr>\n",
       "    <tr>\n",
       "      <th>2</th>\n",
       "      <td>20229</td>\n",
       "    </tr>\n",
       "    <tr>\n",
       "      <th>3</th>\n",
       "      <td>19307</td>\n",
       "    </tr>\n",
       "    <tr>\n",
       "      <th>4</th>\n",
       "      <td>2175</td>\n",
       "    </tr>\n",
       "    <tr>\n",
       "      <th>...</th>\n",
       "      <td>...</td>\n",
       "    </tr>\n",
       "    <tr>\n",
       "      <th>262390</th>\n",
       "      <td>1</td>\n",
       "    </tr>\n",
       "    <tr>\n",
       "      <th>262391</th>\n",
       "      <td>1</td>\n",
       "    </tr>\n",
       "    <tr>\n",
       "      <th>262392</th>\n",
       "      <td>1</td>\n",
       "    </tr>\n",
       "    <tr>\n",
       "      <th>262393</th>\n",
       "      <td>1</td>\n",
       "    </tr>\n",
       "    <tr>\n",
       "      <th>262394</th>\n",
       "      <td>1</td>\n",
       "    </tr>\n",
       "  </tbody>\n",
       "</table>\n",
       "<p>262395 rows × 1 columns</p>\n",
       "</div>"
      ],
      "text/plain": [
       "        realIP\n",
       "0        23483\n",
       "1        21211\n",
       "2        20229\n",
       "3        19307\n",
       "4         2175\n",
       "...        ...\n",
       "262390       1\n",
       "262391       1\n",
       "262392       1\n",
       "262393       1\n",
       "262394       1\n",
       "\n",
       "[262395 rows x 1 columns]"
      ]
     },
     "execution_count": 32,
     "metadata": {},
     "output_type": "execute_result"
    }
   ],
   "source": [
    "ip_counts.reset_index(drop=True)"
   ]
  },
  {
   "cell_type": "code",
   "execution_count": 33,
   "id": "1d19c7ea-0f15-471d-a22e-f3cc8a31c6e3",
   "metadata": {},
   "outputs": [],
   "source": [
    "clicks=ip_counts['realIP'].value_counts()"
   ]
  },
  {
   "cell_type": "code",
   "execution_count": 34,
   "id": "857dbcc4-f599-4d44-b4fc-ce3ca0b5cbdc",
   "metadata": {},
   "outputs": [],
   "source": [
    "more_than_seven = sum(clicks.iloc[7:])"
   ]
  },
  {
   "cell_type": "code",
   "execution_count": 35,
   "id": "7a9ab78a-8bca-4304-9271-2e136ae8bfec",
   "metadata": {},
   "outputs": [
    {
     "data": {
      "text/plain": [
       "13240"
      ]
     },
     "execution_count": 35,
     "metadata": {},
     "output_type": "execute_result"
    }
   ],
   "source": [
    "more_than_seven"
   ]
  },
  {
   "cell_type": "code",
   "execution_count": 36,
   "id": "064ffe57-a711-4a23-a1c5-d3cf37b6d9da",
   "metadata": {},
   "outputs": [],
   "source": [
    "clicks_pct = list(clicks.iloc[:7])+[more_than_seven]"
   ]
  },
  {
   "cell_type": "code",
   "execution_count": 37,
   "id": "9e6ffcb4-a986-4f8c-90fd-ba0084672843",
   "metadata": {},
   "outputs": [],
   "source": [
    "clicks_pct = clicks / sum(clicks) * 100"
   ]
  },
  {
   "cell_type": "code",
   "execution_count": 38,
   "id": "ed347814-ca14-4ba9-ac8e-a58e3361a661",
   "metadata": {},
   "outputs": [
    {
     "data": {
      "text/plain": [
       "1      60.186741\n",
       "2      18.892890\n",
       "3       6.996703\n",
       "4       4.077059\n",
       "5       2.256903\n",
       "         ...    \n",
       "362     0.000381\n",
       "108     0.000381\n",
       "118     0.000381\n",
       "121     0.000381\n",
       "766     0.000381\n",
       "Name: realIP, Length: 306, dtype: float64"
      ]
     },
     "execution_count": 38,
     "metadata": {},
     "output_type": "execute_result"
    }
   ],
   "source": [
    "clicks_pct"
   ]
  },
  {
   "cell_type": "code",
   "execution_count": 39,
   "id": "6b9365e7-85f9-4fa2-b91d-673618ff901b",
   "metadata": {},
   "outputs": [],
   "source": [
    "data_107 = data[data['fullURLId'].notna() & data['fullURLId'].str.startswith('107') & data['fullURL'].str.contains('hunyin')]"
   ]
  },
  {
   "cell_type": "code",
   "execution_count": 40,
   "id": "41d13c59-ec60-4127-ab71-1e996a053efc",
   "metadata": {},
   "outputs": [],
   "source": [
    "info = data_107[['realIP','fullURL']].copy()"
   ]
  },
  {
   "cell_type": "code",
   "execution_count": 41,
   "id": "0389aa80-90b4-4742-8962-e432d6193ab4",
   "metadata": {},
   "outputs": [
    {
     "data": {
      "text/plain": [
       "'http://www.lawtime.cn/info/hunyin/jihuashengyu/201411053308990_2.html'"
      ]
     },
     "execution_count": 41,
     "metadata": {},
     "output_type": "execute_result"
    }
   ],
   "source": [
    "info.iloc[np.random.randint(0,len(data_107)-1,1)[0]].fullURL"
   ]
  },
  {
   "cell_type": "code",
   "execution_count": 42,
   "id": "212564b3-e7f3-4238-8407-a6ba84e4af3c",
   "metadata": {},
   "outputs": [],
   "source": [
    "info['fullURL'] = info.fullURL.apply(lambda x : re.sub('\\?.*','',x))"
   ]
  },
  {
   "cell_type": "code",
   "execution_count": 43,
   "id": "5062f3cb-2161-418b-82f6-d81f09423da5",
   "metadata": {},
   "outputs": [
    {
     "data": {
      "text/plain": [
       "34516"
      ]
     },
     "execution_count": 43,
     "metadata": {},
     "output_type": "execute_result"
    }
   ],
   "source": [
    "len(info)"
   ]
  },
  {
   "cell_type": "code",
   "execution_count": 44,
   "id": "e9630b70-0a31-4f60-8e6e-450427226545",
   "metadata": {},
   "outputs": [],
   "source": [
    "info1 = info[info.fullURL.str.contains('\\.html')].copy()"
   ]
  },
  {
   "cell_type": "code",
   "execution_count": 45,
   "id": "07656911-add9-4dfd-be12-93d11e5f4150",
   "metadata": {},
   "outputs": [],
   "source": [
    "info1['fullURL']=info1['fullURL'].apply(lambda x : re.sub('_\\d+\\.html','.html',x))"
   ]
  },
  {
   "cell_type": "code",
   "execution_count": 46,
   "id": "92dd8047-f58f-4c03-855c-7bb1c04978d9",
   "metadata": {},
   "outputs": [
    {
     "data": {
      "text/plain": [
       "31199"
      ]
     },
     "execution_count": 46,
     "metadata": {},
     "output_type": "execute_result"
    }
   ],
   "source": [
    "len(info1)"
   ]
  },
  {
   "cell_type": "code",
   "execution_count": 47,
   "id": "ccfe230d-8ee0-4117-8fb3-9a9c7334569a",
   "metadata": {},
   "outputs": [],
   "source": [
    "info2 = info1.drop_duplicates()"
   ]
  },
  {
   "cell_type": "code",
   "execution_count": 48,
   "id": "c4283b0d-327b-44ba-8435-ebbeb9220874",
   "metadata": {},
   "outputs": [
    {
     "data": {
      "text/plain": [
       "31199"
      ]
     },
     "execution_count": 48,
     "metadata": {},
     "output_type": "execute_result"
    }
   ],
   "source": [
    "len(info1)"
   ]
  },
  {
   "cell_type": "code",
   "execution_count": 49,
   "id": "1d31b172-dbc5-476b-8ecf-3c0b35c42a9e",
   "metadata": {},
   "outputs": [],
   "source": [
    "info1['realIP']=info1.realIP.apply(lambda x : str(x))"
   ]
  },
  {
   "cell_type": "code",
   "execution_count": 50,
   "id": "c95af2de-5edc-420c-9e3c-ea9cc7f546c2",
   "metadata": {},
   "outputs": [],
   "source": [
    "IP_counts = info1['realIP'].value_counts()"
   ]
  },
  {
   "cell_type": "code",
   "execution_count": 51,
   "id": "dcf740b6-bf28-4956-9c45-e36a2aace13e",
   "metadata": {},
   "outputs": [],
   "source": [
    "IP = list(IP_counts.index)"
   ]
  },
  {
   "cell_type": "code",
   "execution_count": 52,
   "id": "4c1a672d-2d49-4242-b735-72cd4d4f9a6f",
   "metadata": {},
   "outputs": [],
   "source": [
    "counts = list(IP_counts.values)"
   ]
  },
  {
   "cell_type": "code",
   "execution_count": 53,
   "id": "4e2da772-5c2e-47ba-acae-31ea2ebe1910",
   "metadata": {},
   "outputs": [],
   "source": [
    "IP_counts = pd.DataFrame({'IP':IP,'counts':counts})"
   ]
  },
  {
   "cell_type": "code",
   "execution_count": 54,
   "id": "3af1d0dc-90dc-43d5-b409-6470f5ca39cf",
   "metadata": {},
   "outputs": [],
   "source": [
    "IP_counts = IP_counts[IP_counts.counts > 2]"
   ]
  },
  {
   "cell_type": "code",
   "execution_count": 55,
   "id": "d70ed641-865e-4c26-8c87-e3c54eb8c9d2",
   "metadata": {},
   "outputs": [],
   "source": [
    "ip_train,ip_test=train_test_split(IP_counts.IP,test_size=0.2)"
   ]
  },
  {
   "cell_type": "code",
   "execution_count": 56,
   "id": "3952ef34-508a-4f3b-a216-0b414425fca8",
   "metadata": {},
   "outputs": [],
   "source": [
    "ip_idx_train = [ip in list(ip_train) for ip in info1.realIP]\n",
    "ip_idx_test = [ip in list(ip_test) for ip in info1.realIP]"
   ]
  },
  {
   "cell_type": "code",
   "execution_count": 57,
   "id": "3c944994-fa49-4ca1-a13a-7bad9b2e31b2",
   "metadata": {},
   "outputs": [],
   "source": [
    "data_train = info1.loc[ip_idx_train,:]"
   ]
  },
  {
   "cell_type": "code",
   "execution_count": 58,
   "id": "1f093b24-8d10-4f1e-ab53-fbdc2240d0d5",
   "metadata": {},
   "outputs": [],
   "source": [
    "data_test = info1.loc[ip_idx_test,:]"
   ]
  },
  {
   "cell_type": "code",
   "execution_count": 59,
   "id": "111b7d33-2395-4644-9c42-e62cb4592035",
   "metadata": {},
   "outputs": [],
   "source": [
    "data_ip_train = data_train.iloc[:,0]\n",
    "data_url_train = data_train.iloc[:,1]\n",
    "IP_tr = list(set(data_ip_train))\n",
    "url_tr = list(set(data_url_train))"
   ]
  },
  {
   "cell_type": "code",
   "execution_count": 60,
   "id": "36dba0ae-45bc-4d92-a153-3ad656078482",
   "metadata": {},
   "outputs": [
    {
     "data": {
      "text/plain": [
       "(17754, 2746)"
      ]
     },
     "execution_count": 60,
     "metadata": {},
     "output_type": "execute_result"
    }
   ],
   "source": [
    "len(data_url_train),len(url_tr)"
   ]
  },
  {
   "cell_type": "code",
   "execution_count": 61,
   "id": "3e5f3032-2034-4355-86cc-eb9c7399a4e6",
   "metadata": {},
   "outputs": [
    {
     "data": {
      "text/plain": [
       "(17754, 2768)"
      ]
     },
     "execution_count": 61,
     "metadata": {},
     "output_type": "execute_result"
    }
   ],
   "source": [
    "len(data_ip_train),len(IP_tr)"
   ]
  },
  {
   "cell_type": "code",
   "execution_count": 62,
   "id": "231ea140-d7b5-4f10-b6fc-75c9b6303982",
   "metadata": {},
   "outputs": [],
   "source": [
    "data_ip_test = data_test.iloc[:,0]\n",
    "data_url_test = data_test.iloc[:,1]"
   ]
  },
  {
   "cell_type": "code",
   "execution_count": 63,
   "id": "3235089b-a857-4eff-b462-0aef822878d4",
   "metadata": {},
   "outputs": [],
   "source": [
    "UI_matrix_tr = pd.DataFrame(0,index=IP_tr,columns=url_tr)"
   ]
  },
  {
   "cell_type": "code",
   "execution_count": 64,
   "id": "12f0abcb-9e05-4a83-8829-83d61076054b",
   "metadata": {},
   "outputs": [],
   "source": [
    "for i in data_train.index:\n",
    "    UI_matrix_tr.loc[data_train.loc[i,'realIP'],data_train.loc[i,'fullURL']]=1"
   ]
  },
  {
   "cell_type": "code",
   "execution_count": 65,
   "id": "513e4bab-f7bd-4f51-9df7-81e6c0b26ed6",
   "metadata": {},
   "outputs": [
    {
     "data": {
      "text/plain": [
       "7401"
      ]
     },
     "execution_count": 65,
     "metadata": {},
     "output_type": "execute_result"
    }
   ],
   "source": [
    "sum(UI_matrix_tr.sum(axis=1))"
   ]
  },
  {
   "cell_type": "code",
   "execution_count": 72,
   "id": "7c7289a2-2a33-4d00-8473-da29ad3a41ac",
   "metadata": {},
   "outputs": [],
   "source": [
    "Item_matrix_tr = pd.DataFrame(0,index=url_tr,columns=url_tr)"
   ]
  },
  {
   "cell_type": "code",
   "execution_count": null,
   "id": "4975f994-696b-4775-87b8-1091ab5cbf6f",
   "metadata": {},
   "outputs": [],
   "source": [
    "for i in tqdm_notebook(Item_matrix_tr.index):\n",
    "    for j in Item_matrix_tr.index:\n",
    "        a = sum(UI_matrix_tr.loc[:,[i,j]].sum(axis=1)==2)\n",
    "        b = sum(UI_matrix_tr.loc[:,[i,j]].sum(axis=1)!=0)\n",
    "        Item_matrix_tr.loc[i,j] = a/b"
   ]
  }
 ],
 "metadata": {
  "kernelspec": {
   "display_name": "Python 3",
   "language": "python",
   "name": "python3"
  },
  "language_info": {
   "codemirror_mode": {
    "name": "ipython",
    "version": 3
   },
   "file_extension": ".py",
   "mimetype": "text/x-python",
   "name": "python",
   "nbconvert_exporter": "python",
   "pygments_lexer": "ipython3",
   "version": "3.9.2"
  }
 },
 "nbformat": 4,
 "nbformat_minor": 5
}
