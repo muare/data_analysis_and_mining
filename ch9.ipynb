{
 "cells": [
  {
   "cell_type": "code",
   "execution_count": 23,
   "id": "3a64d0e6-7d00-4b07-9cfd-702f1663cefd",
   "metadata": {
    "tags": []
   },
   "outputs": [],
   "source": [
    "import pandas as pd\n",
    "import numpy as np\n",
    "import matplotlib.pyplot as plt\n",
    "from PIL import Image\n",
    "from glob import glob\n",
    "from sklearn.model_selection import train_test_split\n",
    "from sklearn.tree import DecisionTreeClassifier\n",
    "from sklearn.metrics import confusion_matrix\n",
    "from sklearn.metrics import accuracy_score\n",
    "import os\n",
    "from tqdm.notebook import tqdm_notebook"
   ]
  },
  {
   "cell_type": "code",
   "execution_count": 24,
   "id": "fd74682d-849e-4301-8726-9f2950b672ed",
   "metadata": {},
   "outputs": [],
   "source": [
    "plt.rcParams['font.family']=['Heiti TC']\n",
    "plt.rcParams['figure.figsize']=(20,10)"
   ]
  },
  {
   "cell_type": "code",
   "execution_count": 25,
   "id": "2a44a0e5-7479-468f-9ae5-f622e5e520f2",
   "metadata": {},
   "outputs": [],
   "source": [
    "image_list = glob('tutorial/chapter9/demo/data/images/*.jpg')"
   ]
  },
  {
   "cell_type": "code",
   "execution_count": 26,
   "id": "9fdebcf7-7a56-4c3f-969c-0ea8b01c09de",
   "metadata": {},
   "outputs": [],
   "source": [
    "n = len(image_list)\n",
    "features = np.zeros([n,9])\n",
    "labels = np.zeros([n])"
   ]
  },
  {
   "cell_type": "code",
   "execution_count": 27,
   "id": "16cd1bce-02a0-4ccb-b2a1-40e97548cb45",
   "metadata": {},
   "outputs": [],
   "source": [
    "image = Image.open(image_list[0])"
   ]
  },
  {
   "cell_type": "code",
   "execution_count": 28,
   "id": "c8089171-fa93-49ab-8d62-f88f6cde1849",
   "metadata": {},
   "outputs": [],
   "source": [
    "r,g,b=image.split()"
   ]
  },
  {
   "cell_type": "code",
   "execution_count": 29,
   "id": "8c952713-09fa-48ea-9f32-e92550c6f9cf",
   "metadata": {},
   "outputs": [],
   "source": [
    "r=(np.asarray(r)/255)"
   ]
  },
  {
   "cell_type": "code",
   "execution_count": 30,
   "id": "2737f43b-87b2-466b-8a6b-b9056ef1b86a",
   "metadata": {},
   "outputs": [
    {
     "data": {
      "text/plain": [
       "(0.5145421407845159, 0.0860573283455072)"
      ]
     },
     "execution_count": 30,
     "metadata": {},
     "output_type": "execute_result"
    }
   ],
   "source": [
    "r.mean(),r.std()"
   ]
  },
  {
   "cell_type": "code",
   "execution_count": 31,
   "id": "ceba1eaa-d112-4c23-8510-9599d8f95a03",
   "metadata": {},
   "outputs": [],
   "source": [
    "def third_var(data):\n",
    "    x = np.mean((data-data.mean())**3)\n",
    "    return np.sign(x)*(abs(x))**(1/3)"
   ]
  },
  {
   "cell_type": "code",
   "execution_count": 32,
   "id": "b0c6c38e-8d99-4f86-a271-94d4464c1744",
   "metadata": {},
   "outputs": [
    {
     "data": {
      "application/vnd.jupyter.widget-view+json": {
       "model_id": "291dc002311845a09341dc38ff36d7a5",
       "version_major": 2,
       "version_minor": 0
      },
      "text/plain": [
       "  0%|          | 0/203 [00:00<?, ?it/s]"
      ]
     },
     "metadata": {},
     "output_type": "display_data"
    }
   ],
   "source": [
    "i = 0\n",
    "for img_file in tqdm_notebook(image_list):\n",
    "    image = Image.open(img_file)\n",
    "    w,h = image.size\n",
    "    image = image.crop((w/2-50,h/2-50,w/2+50,h/2+50))\n",
    "    r,g,b = image.split()\n",
    "    r,g,b = np.asarray(r)/255,np.asarray(g)/255,np.asarray(b)/255\n",
    "    features[i,0:3] = r.mean(),g.mean(),b.mean()\n",
    "    features[i,3:6] = r.std(),g.std(),b.std()\n",
    "    features[i,6:9] = third_var(r),third_var(g),third_var(b)\n",
    "    labels[i]= os.path.basename(img_file)[0]\n",
    "    i+=1"
   ]
  },
  {
   "cell_type": "code",
   "execution_count": 33,
   "id": "7efddca1-bdf8-4913-9d06-034fbc65caf4",
   "metadata": {},
   "outputs": [],
   "source": [
    "data_train,data_test,label_train,label_test = train_test_split(features,labels,test_size=0.2,random_state=10)"
   ]
  },
  {
   "cell_type": "code",
   "execution_count": 34,
   "id": "d7197323-6032-41d8-b37d-f33551790f2b",
   "metadata": {},
   "outputs": [],
   "source": [
    "model = DecisionTreeClassifier(random_state=5).fit(data_train,label_train)"
   ]
  },
  {
   "cell_type": "code",
   "execution_count": 35,
   "id": "ff73c0b2-cd06-4368-9526-65e02c966ce6",
   "metadata": {},
   "outputs": [],
   "source": [
    "predict=model.predict(data_test)"
   ]
  },
  {
   "cell_type": "code",
   "execution_count": 36,
   "id": "4eddc916-34ba-4f3b-9136-d4495608be57",
   "metadata": {},
   "outputs": [
    {
     "name": "stdout",
     "output_type": "stream",
     "text": [
      "[[11  1  1  0  0]\n",
      " [ 0  9  0  0  0]\n",
      " [ 0  0 12  0  0]\n",
      " [ 0  1  0  3  1]\n",
      " [ 0  0  0  0  2]]\n"
     ]
    }
   ],
   "source": [
    "cm = confusion_matrix(label_test,predict)\n",
    "print(cm)"
   ]
  },
  {
   "cell_type": "code",
   "execution_count": 37,
   "id": "6f9e0cbe-76b1-4164-a728-f384880c8dd2",
   "metadata": {},
   "outputs": [
    {
     "name": "stdout",
     "output_type": "stream",
     "text": [
      "0.9024390243902439\n"
     ]
    }
   ],
   "source": [
    "print(accuracy_score(label_test,predict))"
   ]
  }
 ],
 "metadata": {
  "kernelspec": {
   "display_name": "Python 3",
   "language": "python",
   "name": "python3"
  },
  "language_info": {
   "codemirror_mode": {
    "name": "ipython",
    "version": 3
   },
   "file_extension": ".py",
   "mimetype": "text/x-python",
   "name": "python",
   "nbconvert_exporter": "python",
   "pygments_lexer": "ipython3",
   "version": "3.9.2"
  }
 },
 "nbformat": 4,
 "nbformat_minor": 5
}
